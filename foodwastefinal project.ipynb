{
 "cells": [
  {
   "cell_type": "code",
   "execution_count": 1,
   "id": "55df78a6",
   "metadata": {},
   "outputs": [],
   "source": [
    "## PHASE 1: SET UP AND DATA \n",
    "## important necessary librares for Data explorarive data analaysis (EDA) AND machine learning\n",
    "import pandas as pd\n",
    "import numpy as np\n",
    "import matplotlib.pyplot as plt\n",
    "import seaborn as sns\n",
    "import plotly.express as px\n",
    "from sklearn.preprocessing import StandardScaler\n",
    "from sklearn.cluster import KMeans\n",
    "import warnings\n",
    "warnings.filterwarnings(\"ignore\")\n"
   ]
  },
  {
   "cell_type": "code",
   "execution_count": 2,
   "id": "81c76c84",
   "metadata": {},
   "outputs": [],
   "source": [
    "## Load the datset from a CSV file to a pandas DataFrame\n",
    "df = pd.read_csv(\"food_waste_data.csv\")"
   ]
  },
  {
   "cell_type": "code",
   "execution_count": 3,
   "id": "d1a99506",
   "metadata": {},
   "outputs": [],
   "source": [
    "## PHASE 2: DATA CLEANING AND PREPARATION"
   ]
  },
  {
   "cell_type": "code",
   "execution_count": 4,
   "id": "397d807e",
   "metadata": {},
   "outputs": [
    {
     "data": {
      "text/html": [
       "<div>\n",
       "<style scoped>\n",
       "    .dataframe tbody tr th:only-of-type {\n",
       "        vertical-align: middle;\n",
       "    }\n",
       "\n",
       "    .dataframe tbody tr th {\n",
       "        vertical-align: top;\n",
       "    }\n",
       "\n",
       "    .dataframe thead th {\n",
       "        text-align: right;\n",
       "    }\n",
       "</style>\n",
       "<table border=\"1\" class=\"dataframe\">\n",
       "  <thead>\n",
       "    <tr style=\"text-align: right;\">\n",
       "      <th></th>\n",
       "      <th>Country</th>\n",
       "      <th>combined figures (kg/capita/year)</th>\n",
       "      <th>Household estimate (kg/capita/year)</th>\n",
       "      <th>Household estimate (tonnes/year)</th>\n",
       "      <th>Retail estimate (kg/capita/year)</th>\n",
       "      <th>Retail estimate (tonnes/year)</th>\n",
       "      <th>Food service estimate (kg/capita/year)</th>\n",
       "      <th>Food service estimate (tonnes/year)</th>\n",
       "      <th>Confidence in estimate</th>\n",
       "      <th>M49 code</th>\n",
       "      <th>Region</th>\n",
       "      <th>Source</th>\n",
       "    </tr>\n",
       "  </thead>\n",
       "  <tbody>\n",
       "    <tr>\n",
       "      <th>0</th>\n",
       "      <td>Afghanistan</td>\n",
       "      <td>126</td>\n",
       "      <td>82</td>\n",
       "      <td>3109153</td>\n",
       "      <td>16</td>\n",
       "      <td>594982</td>\n",
       "      <td>28</td>\n",
       "      <td>1051783</td>\n",
       "      <td>Very Low Confidence</td>\n",
       "      <td>4</td>\n",
       "      <td>Southern Asia</td>\n",
       "      <td>https://www.unep.org/resources/report/unep-foo...</td>\n",
       "    </tr>\n",
       "    <tr>\n",
       "      <th>1</th>\n",
       "      <td>Albania</td>\n",
       "      <td>127</td>\n",
       "      <td>83</td>\n",
       "      <td>238492</td>\n",
       "      <td>16</td>\n",
       "      <td>45058</td>\n",
       "      <td>28</td>\n",
       "      <td>79651</td>\n",
       "      <td>Very Low Confidence</td>\n",
       "      <td>8</td>\n",
       "      <td>Southern Europe</td>\n",
       "      <td>https://www.unep.org/resources/report/unep-foo...</td>\n",
       "    </tr>\n",
       "    <tr>\n",
       "      <th>2</th>\n",
       "      <td>Algeria</td>\n",
       "      <td>135</td>\n",
       "      <td>91</td>\n",
       "      <td>3918529</td>\n",
       "      <td>16</td>\n",
       "      <td>673360</td>\n",
       "      <td>28</td>\n",
       "      <td>1190335</td>\n",
       "      <td>Very Low Confidence</td>\n",
       "      <td>12</td>\n",
       "      <td>Northern Africa</td>\n",
       "      <td>https://www.unep.org/resources/report/unep-foo...</td>\n",
       "    </tr>\n",
       "    <tr>\n",
       "      <th>3</th>\n",
       "      <td>Andorra</td>\n",
       "      <td>123</td>\n",
       "      <td>84</td>\n",
       "      <td>6497</td>\n",
       "      <td>13</td>\n",
       "      <td>988</td>\n",
       "      <td>26</td>\n",
       "      <td>1971</td>\n",
       "      <td>Low Confidence</td>\n",
       "      <td>20</td>\n",
       "      <td>Southern Europe</td>\n",
       "      <td>https://www.unep.org/resources/report/unep-foo...</td>\n",
       "    </tr>\n",
       "    <tr>\n",
       "      <th>4</th>\n",
       "      <td>Angola</td>\n",
       "      <td>144</td>\n",
       "      <td>100</td>\n",
       "      <td>3169523</td>\n",
       "      <td>16</td>\n",
       "      <td>497755</td>\n",
       "      <td>28</td>\n",
       "      <td>879908</td>\n",
       "      <td>Very Low Confidence</td>\n",
       "      <td>24</td>\n",
       "      <td>Sub-Saharan Africa</td>\n",
       "      <td>https://www.unep.org/resources/report/unep-foo...</td>\n",
       "    </tr>\n",
       "    <tr>\n",
       "      <th>5</th>\n",
       "      <td>Antigua and Barbuda</td>\n",
       "      <td>113</td>\n",
       "      <td>74</td>\n",
       "      <td>7178</td>\n",
       "      <td>13</td>\n",
       "      <td>1244</td>\n",
       "      <td>26</td>\n",
       "      <td>2483</td>\n",
       "      <td>Low Confidence</td>\n",
       "      <td>28</td>\n",
       "      <td>Latin America and the Caribbean</td>\n",
       "      <td>https://www.unep.org/resources/report/unep-foo...</td>\n",
       "    </tr>\n",
       "    <tr>\n",
       "      <th>6</th>\n",
       "      <td>Argentina</td>\n",
       "      <td>116</td>\n",
       "      <td>72</td>\n",
       "      <td>3243563</td>\n",
       "      <td>16</td>\n",
       "      <td>700380</td>\n",
       "      <td>28</td>\n",
       "      <td>1238100</td>\n",
       "      <td>Very Low Confidence</td>\n",
       "      <td>32</td>\n",
       "      <td>Latin America and the Caribbean</td>\n",
       "      <td>https://www.unep.org/resources/report/unep-foo...</td>\n",
       "    </tr>\n",
       "    <tr>\n",
       "      <th>7</th>\n",
       "      <td>Armenia</td>\n",
       "      <td>137</td>\n",
       "      <td>93</td>\n",
       "      <td>275195</td>\n",
       "      <td>16</td>\n",
       "      <td>46259</td>\n",
       "      <td>28</td>\n",
       "      <td>81775</td>\n",
       "      <td>Very Low Confidence</td>\n",
       "      <td>51</td>\n",
       "      <td>Western Asia</td>\n",
       "      <td>https://www.unep.org/resources/report/unep-foo...</td>\n",
       "    </tr>\n",
       "    <tr>\n",
       "      <th>8</th>\n",
       "      <td>Aruba</td>\n",
       "      <td>113</td>\n",
       "      <td>74</td>\n",
       "      <td>7858</td>\n",
       "      <td>13</td>\n",
       "      <td>1362</td>\n",
       "      <td>26</td>\n",
       "      <td>2718</td>\n",
       "      <td>Low Confidence</td>\n",
       "      <td>533</td>\n",
       "      <td>Latin America and the Caribbean</td>\n",
       "      <td>https://www.unep.org/resources/report/unep-foo...</td>\n",
       "    </tr>\n",
       "    <tr>\n",
       "      <th>9</th>\n",
       "      <td>Australia</td>\n",
       "      <td>133</td>\n",
       "      <td>102</td>\n",
       "      <td>2563110</td>\n",
       "      <td>9</td>\n",
       "      <td>238248</td>\n",
       "      <td>22</td>\n",
       "      <td>546340</td>\n",
       "      <td>High Confidence</td>\n",
       "      <td>36</td>\n",
       "      <td>Australia and New Zealand</td>\n",
       "      <td>https://www.unep.org/resources/report/unep-foo...</td>\n",
       "    </tr>\n",
       "  </tbody>\n",
       "</table>\n",
       "</div>"
      ],
      "text/plain": [
       "               Country  combined figures (kg/capita/year)  \\\n",
       "0          Afghanistan                                126   \n",
       "1              Albania                                127   \n",
       "2              Algeria                                135   \n",
       "3              Andorra                                123   \n",
       "4               Angola                                144   \n",
       "5  Antigua and Barbuda                                113   \n",
       "6            Argentina                                116   \n",
       "7              Armenia                                137   \n",
       "8                Aruba                                113   \n",
       "9            Australia                                133   \n",
       "\n",
       "   Household estimate (kg/capita/year)  Household estimate (tonnes/year)  \\\n",
       "0                                   82                           3109153   \n",
       "1                                   83                            238492   \n",
       "2                                   91                           3918529   \n",
       "3                                   84                              6497   \n",
       "4                                  100                           3169523   \n",
       "5                                   74                              7178   \n",
       "6                                   72                           3243563   \n",
       "7                                   93                            275195   \n",
       "8                                   74                              7858   \n",
       "9                                  102                           2563110   \n",
       "\n",
       "   Retail estimate (kg/capita/year)  Retail estimate (tonnes/year)  \\\n",
       "0                                16                         594982   \n",
       "1                                16                          45058   \n",
       "2                                16                         673360   \n",
       "3                                13                            988   \n",
       "4                                16                         497755   \n",
       "5                                13                           1244   \n",
       "6                                16                         700380   \n",
       "7                                16                          46259   \n",
       "8                                13                           1362   \n",
       "9                                 9                         238248   \n",
       "\n",
       "   Food service estimate (kg/capita/year)  \\\n",
       "0                                      28   \n",
       "1                                      28   \n",
       "2                                      28   \n",
       "3                                      26   \n",
       "4                                      28   \n",
       "5                                      26   \n",
       "6                                      28   \n",
       "7                                      28   \n",
       "8                                      26   \n",
       "9                                      22   \n",
       "\n",
       "   Food service estimate (tonnes/year) Confidence in estimate  M49 code  \\\n",
       "0                              1051783    Very Low Confidence         4   \n",
       "1                                79651    Very Low Confidence         8   \n",
       "2                              1190335    Very Low Confidence        12   \n",
       "3                                 1971         Low Confidence        20   \n",
       "4                               879908    Very Low Confidence        24   \n",
       "5                                 2483         Low Confidence        28   \n",
       "6                              1238100    Very Low Confidence        32   \n",
       "7                                81775    Very Low Confidence        51   \n",
       "8                                 2718         Low Confidence       533   \n",
       "9                               546340        High Confidence        36   \n",
       "\n",
       "                            Region  \\\n",
       "0                    Southern Asia   \n",
       "1                  Southern Europe   \n",
       "2                  Northern Africa   \n",
       "3                  Southern Europe   \n",
       "4               Sub-Saharan Africa   \n",
       "5  Latin America and the Caribbean   \n",
       "6  Latin America and the Caribbean   \n",
       "7                     Western Asia   \n",
       "8  Latin America and the Caribbean   \n",
       "9        Australia and New Zealand   \n",
       "\n",
       "                                              Source  \n",
       "0  https://www.unep.org/resources/report/unep-foo...  \n",
       "1  https://www.unep.org/resources/report/unep-foo...  \n",
       "2  https://www.unep.org/resources/report/unep-foo...  \n",
       "3  https://www.unep.org/resources/report/unep-foo...  \n",
       "4  https://www.unep.org/resources/report/unep-foo...  \n",
       "5  https://www.unep.org/resources/report/unep-foo...  \n",
       "6  https://www.unep.org/resources/report/unep-foo...  \n",
       "7  https://www.unep.org/resources/report/unep-foo...  \n",
       "8  https://www.unep.org/resources/report/unep-foo...  \n",
       "9  https://www.unep.org/resources/report/unep-foo...  "
      ]
     },
     "execution_count": 4,
     "metadata": {},
     "output_type": "execute_result"
    }
   ],
   "source": [
    "##display the first 10 rows of the DataFrame\n",
    "df.head(10)"
   ]
  },
  {
   "cell_type": "code",
   "execution_count": 5,
   "id": "8f6cdb91",
   "metadata": {},
   "outputs": [
    {
     "data": {
      "text/html": [
       "<div>\n",
       "<style scoped>\n",
       "    .dataframe tbody tr th:only-of-type {\n",
       "        vertical-align: middle;\n",
       "    }\n",
       "\n",
       "    .dataframe tbody tr th {\n",
       "        vertical-align: top;\n",
       "    }\n",
       "\n",
       "    .dataframe thead th {\n",
       "        text-align: right;\n",
       "    }\n",
       "</style>\n",
       "<table border=\"1\" class=\"dataframe\">\n",
       "  <thead>\n",
       "    <tr style=\"text-align: right;\">\n",
       "      <th></th>\n",
       "      <th>Country</th>\n",
       "      <th>combined figures (kg/capita/year)</th>\n",
       "      <th>Household estimate (kg/capita/year)</th>\n",
       "      <th>Household estimate (tonnes/year)</th>\n",
       "      <th>Retail estimate (kg/capita/year)</th>\n",
       "      <th>Retail estimate (tonnes/year)</th>\n",
       "      <th>Food service estimate (kg/capita/year)</th>\n",
       "      <th>Food service estimate (tonnes/year)</th>\n",
       "      <th>Confidence in estimate</th>\n",
       "      <th>M49 code</th>\n",
       "      <th>Region</th>\n",
       "      <th>Source</th>\n",
       "    </tr>\n",
       "  </thead>\n",
       "  <tbody>\n",
       "    <tr>\n",
       "      <th>204</th>\n",
       "      <td>United States of America</td>\n",
       "      <td>139</td>\n",
       "      <td>59</td>\n",
       "      <td>19359951</td>\n",
       "      <td>16</td>\n",
       "      <td>5151313</td>\n",
       "      <td>64</td>\n",
       "      <td>20934827</td>\n",
       "      <td>High Confidence</td>\n",
       "      <td>840</td>\n",
       "      <td>Northern America</td>\n",
       "      <td>https://www.unep.org/resources/report/unep-foo...</td>\n",
       "    </tr>\n",
       "    <tr>\n",
       "      <th>205</th>\n",
       "      <td>United States Virgin Islands</td>\n",
       "      <td>113</td>\n",
       "      <td>74</td>\n",
       "      <td>7732</td>\n",
       "      <td>13</td>\n",
       "      <td>1340</td>\n",
       "      <td>26</td>\n",
       "      <td>2675</td>\n",
       "      <td>Low Confidence</td>\n",
       "      <td>850</td>\n",
       "      <td>Latin America and the Caribbean</td>\n",
       "      <td>https://www.unep.org/resources/report/unep-foo...</td>\n",
       "    </tr>\n",
       "    <tr>\n",
       "      <th>206</th>\n",
       "      <td>Uruguay</td>\n",
       "      <td>113</td>\n",
       "      <td>74</td>\n",
       "      <td>255892</td>\n",
       "      <td>13</td>\n",
       "      <td>44349</td>\n",
       "      <td>26</td>\n",
       "      <td>88517</td>\n",
       "      <td>Low Confidence</td>\n",
       "      <td>858</td>\n",
       "      <td>Latin America and the Caribbean</td>\n",
       "      <td>https://www.unep.org/resources/report/unep-foo...</td>\n",
       "    </tr>\n",
       "    <tr>\n",
       "      <th>207</th>\n",
       "      <td>Uzbekistan</td>\n",
       "      <td>135</td>\n",
       "      <td>91</td>\n",
       "      <td>3001868</td>\n",
       "      <td>16</td>\n",
       "      <td>515841</td>\n",
       "      <td>28</td>\n",
       "      <td>911881</td>\n",
       "      <td>Very Low Confidence</td>\n",
       "      <td>860</td>\n",
       "      <td>Central Asia</td>\n",
       "      <td>https://www.unep.org/resources/report/unep-foo...</td>\n",
       "    </tr>\n",
       "    <tr>\n",
       "      <th>208</th>\n",
       "      <td>Vanuatu</td>\n",
       "      <td>135</td>\n",
       "      <td>91</td>\n",
       "      <td>27296</td>\n",
       "      <td>16</td>\n",
       "      <td>4691</td>\n",
       "      <td>28</td>\n",
       "      <td>8292</td>\n",
       "      <td>Very Low Confidence</td>\n",
       "      <td>548</td>\n",
       "      <td>Melanesia</td>\n",
       "      <td>https://www.unep.org/resources/report/unep-foo...</td>\n",
       "    </tr>\n",
       "    <tr>\n",
       "      <th>209</th>\n",
       "      <td>Venezuela (Boliv. Rep. of)</td>\n",
       "      <td>116</td>\n",
       "      <td>72</td>\n",
       "      <td>2065461</td>\n",
       "      <td>16</td>\n",
       "      <td>445994</td>\n",
       "      <td>28</td>\n",
       "      <td>788407</td>\n",
       "      <td>Very Low Confidence</td>\n",
       "      <td>862</td>\n",
       "      <td>Latin America and the Caribbean</td>\n",
       "      <td>https://www.unep.org/resources/report/unep-foo...</td>\n",
       "    </tr>\n",
       "    <tr>\n",
       "      <th>210</th>\n",
       "      <td>Viet Nam</td>\n",
       "      <td>120</td>\n",
       "      <td>76</td>\n",
       "      <td>7346717</td>\n",
       "      <td>16</td>\n",
       "      <td>1508689</td>\n",
       "      <td>28</td>\n",
       "      <td>2666991</td>\n",
       "      <td>Very Low Confidence</td>\n",
       "      <td>704</td>\n",
       "      <td>South-eastern Asia</td>\n",
       "      <td>https://www.unep.org/resources/report/unep-foo...</td>\n",
       "    </tr>\n",
       "    <tr>\n",
       "      <th>211</th>\n",
       "      <td>Yemen</td>\n",
       "      <td>148</td>\n",
       "      <td>104</td>\n",
       "      <td>3026946</td>\n",
       "      <td>16</td>\n",
       "      <td>456099</td>\n",
       "      <td>28</td>\n",
       "      <td>806270</td>\n",
       "      <td>Very Low Confidence</td>\n",
       "      <td>887</td>\n",
       "      <td>Western Asia</td>\n",
       "      <td>https://www.unep.org/resources/report/unep-foo...</td>\n",
       "    </tr>\n",
       "    <tr>\n",
       "      <th>212</th>\n",
       "      <td>Zambia</td>\n",
       "      <td>122</td>\n",
       "      <td>78</td>\n",
       "      <td>1391729</td>\n",
       "      <td>16</td>\n",
       "      <td>279350</td>\n",
       "      <td>28</td>\n",
       "      <td>493822</td>\n",
       "      <td>Very Low Confidence</td>\n",
       "      <td>894</td>\n",
       "      <td>Sub-Saharan Africa</td>\n",
       "      <td>https://www.unep.org/resources/report/unep-foo...</td>\n",
       "    </tr>\n",
       "    <tr>\n",
       "      <th>213</th>\n",
       "      <td>Zimbabwe</td>\n",
       "      <td>144</td>\n",
       "      <td>100</td>\n",
       "      <td>1458564</td>\n",
       "      <td>16</td>\n",
       "      <td>229059</td>\n",
       "      <td>28</td>\n",
       "      <td>404920</td>\n",
       "      <td>Very Low Confidence</td>\n",
       "      <td>716</td>\n",
       "      <td>Sub-Saharan Africa</td>\n",
       "      <td>https://www.unep.org/resources/report/unep-foo...</td>\n",
       "    </tr>\n",
       "  </tbody>\n",
       "</table>\n",
       "</div>"
      ],
      "text/plain": [
       "                          Country  combined figures (kg/capita/year)  \\\n",
       "204      United States of America                                139   \n",
       "205  United States Virgin Islands                                113   \n",
       "206                       Uruguay                                113   \n",
       "207                    Uzbekistan                                135   \n",
       "208                       Vanuatu                                135   \n",
       "209    Venezuela (Boliv. Rep. of)                                116   \n",
       "210                      Viet Nam                                120   \n",
       "211                         Yemen                                148   \n",
       "212                        Zambia                                122   \n",
       "213                      Zimbabwe                                144   \n",
       "\n",
       "     Household estimate (kg/capita/year)  Household estimate (tonnes/year)  \\\n",
       "204                                   59                          19359951   \n",
       "205                                   74                              7732   \n",
       "206                                   74                            255892   \n",
       "207                                   91                           3001868   \n",
       "208                                   91                             27296   \n",
       "209                                   72                           2065461   \n",
       "210                                   76                           7346717   \n",
       "211                                  104                           3026946   \n",
       "212                                   78                           1391729   \n",
       "213                                  100                           1458564   \n",
       "\n",
       "     Retail estimate (kg/capita/year)  Retail estimate (tonnes/year)  \\\n",
       "204                                16                        5151313   \n",
       "205                                13                           1340   \n",
       "206                                13                          44349   \n",
       "207                                16                         515841   \n",
       "208                                16                           4691   \n",
       "209                                16                         445994   \n",
       "210                                16                        1508689   \n",
       "211                                16                         456099   \n",
       "212                                16                         279350   \n",
       "213                                16                         229059   \n",
       "\n",
       "     Food service estimate (kg/capita/year)  \\\n",
       "204                                      64   \n",
       "205                                      26   \n",
       "206                                      26   \n",
       "207                                      28   \n",
       "208                                      28   \n",
       "209                                      28   \n",
       "210                                      28   \n",
       "211                                      28   \n",
       "212                                      28   \n",
       "213                                      28   \n",
       "\n",
       "     Food service estimate (tonnes/year) Confidence in estimate  M49 code  \\\n",
       "204                             20934827        High Confidence       840   \n",
       "205                                 2675         Low Confidence       850   \n",
       "206                                88517         Low Confidence       858   \n",
       "207                               911881    Very Low Confidence       860   \n",
       "208                                 8292    Very Low Confidence       548   \n",
       "209                               788407    Very Low Confidence       862   \n",
       "210                              2666991    Very Low Confidence       704   \n",
       "211                               806270    Very Low Confidence       887   \n",
       "212                               493822    Very Low Confidence       894   \n",
       "213                               404920    Very Low Confidence       716   \n",
       "\n",
       "                              Region  \\\n",
       "204                 Northern America   \n",
       "205  Latin America and the Caribbean   \n",
       "206  Latin America and the Caribbean   \n",
       "207                     Central Asia   \n",
       "208                        Melanesia   \n",
       "209  Latin America and the Caribbean   \n",
       "210               South-eastern Asia   \n",
       "211                     Western Asia   \n",
       "212               Sub-Saharan Africa   \n",
       "213               Sub-Saharan Africa   \n",
       "\n",
       "                                                Source  \n",
       "204  https://www.unep.org/resources/report/unep-foo...  \n",
       "205  https://www.unep.org/resources/report/unep-foo...  \n",
       "206  https://www.unep.org/resources/report/unep-foo...  \n",
       "207  https://www.unep.org/resources/report/unep-foo...  \n",
       "208  https://www.unep.org/resources/report/unep-foo...  \n",
       "209  https://www.unep.org/resources/report/unep-foo...  \n",
       "210  https://www.unep.org/resources/report/unep-foo...  \n",
       "211  https://www.unep.org/resources/report/unep-foo...  \n",
       "212  https://www.unep.org/resources/report/unep-foo...  \n",
       "213  https://www.unep.org/resources/report/unep-foo...  "
      ]
     },
     "execution_count": 5,
     "metadata": {},
     "output_type": "execute_result"
    }
   ],
   "source": [
    "## display the last 10 rows of the DataFrame\n",
    "df.tail(10)"
   ]
  },
  {
   "cell_type": "code",
   "execution_count": 6,
   "id": "4104ccc2",
   "metadata": {},
   "outputs": [
    {
     "name": "stdout",
     "output_type": "stream",
     "text": [
      "<class 'pandas.core.frame.DataFrame'>\n",
      "RangeIndex: 214 entries, 0 to 213\n",
      "Data columns (total 12 columns):\n",
      " #   Column                                  Non-Null Count  Dtype \n",
      "---  ------                                  --------------  ----- \n",
      " 0   Country                                 214 non-null    object\n",
      " 1   combined figures (kg/capita/year)       214 non-null    int64 \n",
      " 2   Household estimate (kg/capita/year)     214 non-null    int64 \n",
      " 3   Household estimate (tonnes/year)        214 non-null    int64 \n",
      " 4   Retail estimate (kg/capita/year)        214 non-null    int64 \n",
      " 5   Retail estimate (tonnes/year)           214 non-null    int64 \n",
      " 6   Food service estimate (kg/capita/year)  214 non-null    int64 \n",
      " 7   Food service estimate (tonnes/year)     214 non-null    int64 \n",
      " 8   Confidence in estimate                  214 non-null    object\n",
      " 9   M49 code                                214 non-null    int64 \n",
      " 10  Region                                  214 non-null    object\n",
      " 11  Source                                  214 non-null    object\n",
      "dtypes: int64(8), object(4)\n",
      "memory usage: 20.2+ KB\n"
     ]
    }
   ],
   "source": [
    "## Display basic information about the DataFrame (column, datatypes, Non-null counts)\n",
    "df.info()"
   ]
  },
  {
   "cell_type": "code",
   "execution_count": 7,
   "id": "d1e0c57d",
   "metadata": {},
   "outputs": [],
   "source": [
    "## Identify columns that should be numeric\n",
    "numeric_cols = [\n",
    "    'combined figures (kg/capita/year)',\n",
    "    'Household estimate (kg/capita/year)',\n",
    "    'Retail estimate (kg/capita/year)',\n",
    "    'Food service estimate (kg/capita/year)'\n",
    "]"
   ]
  },
  {
   "cell_type": "code",
   "execution_count": 8,
   "id": "dfd6695f",
   "metadata": {},
   "outputs": [],
   "source": [
    "# Convert these columns to numeric type, coercing errors to NaN (Not a Number)\n",
    "for col in numeric_cols:\n",
    "    df[col] = pd.to_numeric(df[col], errors='coerce')\n"
   ]
  },
  {
   "cell_type": "code",
   "execution_count": 9,
   "id": "618f9dce",
   "metadata": {},
   "outputs": [
    {
     "name": "stdout",
     "output_type": "stream",
     "text": [
      "Country                                   0\n",
      "combined figures (kg/capita/year)         0\n",
      "Household estimate (kg/capita/year)       0\n",
      "Household estimate (tonnes/year)          0\n",
      "Retail estimate (kg/capita/year)          0\n",
      "Retail estimate (tonnes/year)             0\n",
      "Food service estimate (kg/capita/year)    0\n",
      "Food service estimate (tonnes/year)       0\n",
      "Confidence in estimate                    0\n",
      "M49 code                                  0\n",
      "Region                                    0\n",
      "Source                                    0\n",
      "dtype: int64\n"
     ]
    }
   ],
   "source": [
    "## Check for missing alues in the DtaFrame\n",
    "print(df.isnull().sum())\n"
   ]
  },
  {
   "cell_type": "code",
   "execution_count": 10,
   "id": "cfad877a",
   "metadata": {},
   "outputs": [
    {
     "data": {
      "text/plain": [
       "Index(['Country', 'combined figures (kg/capita/year)',\n",
       "       'Household estimate (kg/capita/year)',\n",
       "       'Household estimate (tonnes/year)', 'Retail estimate (kg/capita/year)',\n",
       "       'Retail estimate (tonnes/year)',\n",
       "       'Food service estimate (kg/capita/year)',\n",
       "       'Food service estimate (tonnes/year)', 'Confidence in estimate',\n",
       "       'M49 code', 'Region', 'Source'],\n",
       "      dtype='object')"
      ]
     },
     "execution_count": 10,
     "metadata": {},
     "output_type": "execute_result"
    }
   ],
   "source": [
    "df.columns"
   ]
  },
  {
   "cell_type": "code",
   "execution_count": 11,
   "id": "4f5185ce",
   "metadata": {},
   "outputs": [
    {
     "data": {
      "text/html": [
       "<div>\n",
       "<style scoped>\n",
       "    .dataframe tbody tr th:only-of-type {\n",
       "        vertical-align: middle;\n",
       "    }\n",
       "\n",
       "    .dataframe tbody tr th {\n",
       "        vertical-align: top;\n",
       "    }\n",
       "\n",
       "    .dataframe thead th {\n",
       "        text-align: right;\n",
       "    }\n",
       "</style>\n",
       "<table border=\"1\" class=\"dataframe\">\n",
       "  <thead>\n",
       "    <tr style=\"text-align: right;\">\n",
       "      <th></th>\n",
       "      <th>combined figures (kg/capita/year)</th>\n",
       "      <th>Household estimate (kg/capita/year)</th>\n",
       "      <th>Household estimate (tonnes/year)</th>\n",
       "      <th>Retail estimate (kg/capita/year)</th>\n",
       "      <th>Retail estimate (tonnes/year)</th>\n",
       "      <th>Food service estimate (kg/capita/year)</th>\n",
       "      <th>Food service estimate (tonnes/year)</th>\n",
       "      <th>M49 code</th>\n",
       "    </tr>\n",
       "  </thead>\n",
       "  <tbody>\n",
       "    <tr>\n",
       "      <th>count</th>\n",
       "      <td>214.000000</td>\n",
       "      <td>214.000000</td>\n",
       "      <td>2.140000e+02</td>\n",
       "      <td>214.000000</td>\n",
       "      <td>2.140000e+02</td>\n",
       "      <td>214.000000</td>\n",
       "      <td>2.140000e+02</td>\n",
       "      <td>214.000000</td>\n",
       "    </tr>\n",
       "    <tr>\n",
       "      <th>mean</th>\n",
       "      <td>126.794393</td>\n",
       "      <td>84.294393</td>\n",
       "      <td>2.658896e+06</td>\n",
       "      <td>15.116822</td>\n",
       "      <td>5.520454e+05</td>\n",
       "      <td>27.383178</td>\n",
       "      <td>1.138859e+06</td>\n",
       "      <td>433.971963</td>\n",
       "    </tr>\n",
       "    <tr>\n",
       "      <th>std</th>\n",
       "      <td>22.157879</td>\n",
       "      <td>18.313705</td>\n",
       "      <td>8.596906e+06</td>\n",
       "      <td>5.767840</td>\n",
       "      <td>2.195578e+06</td>\n",
       "      <td>6.508420</td>\n",
       "      <td>5.380459e+06</td>\n",
       "      <td>252.185786</td>\n",
       "    </tr>\n",
       "    <tr>\n",
       "      <th>min</th>\n",
       "      <td>61.000000</td>\n",
       "      <td>33.000000</td>\n",
       "      <td>8.500000e+02</td>\n",
       "      <td>3.000000</td>\n",
       "      <td>1.380000e+02</td>\n",
       "      <td>3.000000</td>\n",
       "      <td>2.760000e+02</td>\n",
       "      <td>4.000000</td>\n",
       "    </tr>\n",
       "    <tr>\n",
       "      <th>25%</th>\n",
       "      <td>115.000000</td>\n",
       "      <td>74.000000</td>\n",
       "      <td>6.831550e+04</td>\n",
       "      <td>13.000000</td>\n",
       "      <td>1.250925e+04</td>\n",
       "      <td>26.000000</td>\n",
       "      <td>2.239125e+04</td>\n",
       "      <td>219.000000</td>\n",
       "    </tr>\n",
       "    <tr>\n",
       "      <th>50%</th>\n",
       "      <td>123.000000</td>\n",
       "      <td>80.000000</td>\n",
       "      <td>5.205080e+05</td>\n",
       "      <td>16.000000</td>\n",
       "      <td>1.006500e+05</td>\n",
       "      <td>28.000000</td>\n",
       "      <td>1.884660e+05</td>\n",
       "      <td>432.000000</td>\n",
       "    </tr>\n",
       "    <tr>\n",
       "      <th>75%</th>\n",
       "      <td>137.750000</td>\n",
       "      <td>95.000000</td>\n",
       "      <td>2.111314e+06</td>\n",
       "      <td>16.000000</td>\n",
       "      <td>3.568158e+05</td>\n",
       "      <td>28.000000</td>\n",
       "      <td>6.307618e+05</td>\n",
       "      <td>645.250000</td>\n",
       "    </tr>\n",
       "    <tr>\n",
       "      <th>max</th>\n",
       "      <td>260.000000</td>\n",
       "      <td>189.000000</td>\n",
       "      <td>9.164621e+07</td>\n",
       "      <td>79.000000</td>\n",
       "      <td>2.242470e+07</td>\n",
       "      <td>90.000000</td>\n",
       "      <td>6.537774e+07</td>\n",
       "      <td>894.000000</td>\n",
       "    </tr>\n",
       "  </tbody>\n",
       "</table>\n",
       "</div>"
      ],
      "text/plain": [
       "       combined figures (kg/capita/year)  Household estimate (kg/capita/year)  \\\n",
       "count                         214.000000                           214.000000   \n",
       "mean                          126.794393                            84.294393   \n",
       "std                            22.157879                            18.313705   \n",
       "min                            61.000000                            33.000000   \n",
       "25%                           115.000000                            74.000000   \n",
       "50%                           123.000000                            80.000000   \n",
       "75%                           137.750000                            95.000000   \n",
       "max                           260.000000                           189.000000   \n",
       "\n",
       "       Household estimate (tonnes/year)  Retail estimate (kg/capita/year)  \\\n",
       "count                      2.140000e+02                        214.000000   \n",
       "mean                       2.658896e+06                         15.116822   \n",
       "std                        8.596906e+06                          5.767840   \n",
       "min                        8.500000e+02                          3.000000   \n",
       "25%                        6.831550e+04                         13.000000   \n",
       "50%                        5.205080e+05                         16.000000   \n",
       "75%                        2.111314e+06                         16.000000   \n",
       "max                        9.164621e+07                         79.000000   \n",
       "\n",
       "       Retail estimate (tonnes/year)  Food service estimate (kg/capita/year)  \\\n",
       "count                   2.140000e+02                              214.000000   \n",
       "mean                    5.520454e+05                               27.383178   \n",
       "std                     2.195578e+06                                6.508420   \n",
       "min                     1.380000e+02                                3.000000   \n",
       "25%                     1.250925e+04                               26.000000   \n",
       "50%                     1.006500e+05                               28.000000   \n",
       "75%                     3.568158e+05                               28.000000   \n",
       "max                     2.242470e+07                               90.000000   \n",
       "\n",
       "       Food service estimate (tonnes/year)    M49 code  \n",
       "count                         2.140000e+02  214.000000  \n",
       "mean                          1.138859e+06  433.971963  \n",
       "std                           5.380459e+06  252.185786  \n",
       "min                           2.760000e+02    4.000000  \n",
       "25%                           2.239125e+04  219.000000  \n",
       "50%                           1.884660e+05  432.000000  \n",
       "75%                           6.307618e+05  645.250000  \n",
       "max                           6.537774e+07  894.000000  "
      ]
     },
     "execution_count": 11,
     "metadata": {},
     "output_type": "execute_result"
    }
   ],
   "source": [
    "df.describe()"
   ]
  },
  {
   "cell_type": "code",
   "execution_count": 12,
   "id": "98473b2d",
   "metadata": {},
   "outputs": [
    {
     "data": {
      "text/plain": [
       "0                        Southern Asia\n",
       "1                      Southern Europe\n",
       "2                      Northern Africa\n",
       "3                      Southern Europe\n",
       "4                   Sub-Saharan Africa\n",
       "                    ...               \n",
       "209    Latin America and the Caribbean\n",
       "210                 South-eastern Asia\n",
       "211                       Western Asia\n",
       "212                 Sub-Saharan Africa\n",
       "213                 Sub-Saharan Africa\n",
       "Name: Region, Length: 214, dtype: object"
      ]
     },
     "execution_count": 12,
     "metadata": {},
     "output_type": "execute_result"
    }
   ],
   "source": [
    "df.Region"
   ]
  },
  {
   "cell_type": "code",
   "execution_count": 13,
   "id": "bddbc8c7",
   "metadata": {},
   "outputs": [
    {
     "data": {
      "text/plain": [
       "0                     Afghanistan\n",
       "1                         Albania\n",
       "2                         Algeria\n",
       "3                         Andorra\n",
       "4                          Angola\n",
       "                  ...            \n",
       "209    Venezuela (Boliv. Rep. of)\n",
       "210                      Viet Nam\n",
       "211                         Yemen\n",
       "212                        Zambia\n",
       "213                      Zimbabwe\n",
       "Name: Country, Length: 214, dtype: object"
      ]
     },
     "execution_count": 13,
     "metadata": {},
     "output_type": "execute_result"
    }
   ],
   "source": [
    "df.Country"
   ]
  },
  {
   "cell_type": "code",
   "execution_count": 14,
   "id": "4e856cbc",
   "metadata": {},
   "outputs": [
    {
     "name": "stdout",
     "output_type": "stream",
     "text": [
      "\n",
      "--- Starting EDA ---\n"
     ]
    }
   ],
   "source": [
    "## PHASE 3: EXPLORATORY DATA ANALYSIS (EDA)\n",
    "print(\"\\n--- Starting EDA ---\")"
   ]
  },
  {
   "cell_type": "code",
   "execution_count": 15,
   "id": "7c9e97d9",
   "metadata": {},
   "outputs": [
    {
     "data": {
      "text/plain": [
       "<Figure size 1200x700 with 0 Axes>"
      ]
     },
     "execution_count": 15,
     "metadata": {},
     "output_type": "execute_result"
    },
    {
     "data": {
      "text/plain": [
       "<Figure size 1200x700 with 0 Axes>"
      ]
     },
     "metadata": {},
     "output_type": "display_data"
    }
   ],
   "source": [
    "## Set a consistent style for all plots\n",
    "sns.set_style(\"whitegrid\")\n",
    "plt.figure(figsize=(12, 7))"
   ]
  },
  {
   "cell_type": "code",
   "execution_count": 16,
   "id": "0f322ab3",
   "metadata": {},
   "outputs": [],
   "source": [
    "## EDA 1: Top & Bottom 10 Countries by Waste Per Capita\n",
    "## Sort the DataFrame by 'combined figures' to find the top 10 worst offenders\n",
    "top_10_waste = df.sort_values(by='combined figures (kg/capita/year)', ascending=False).head(10)"
   ]
  },
  {
   "cell_type": "code",
   "execution_count": 17,
   "id": "3209ff6d",
   "metadata": {},
   "outputs": [
    {
     "data": {
      "image/png": "[encoded data removed]",
      "text/plain": [
       "<Figure size 640x480 with 1 Axes>"
      ]
     },
     "metadata": {},
     "output_type": "display_data"
    }
   ],
   "source": [
    "## Create a bar plot for the top 10 countries\n",
    "sns.barplot(x='combined figures (kg/capita/year)', y='Country', data=top_10_waste, palette='Reds_r')\n",
    "plt.title('Top 10 Countries by Food Waste (kg/capita/year)')\n",
    "plt.xlabel('Combined Waste (kg/capita/year)')\n",
    "plt.ylabel('Country')\n",
    "plt.tight_layout()\n",
    "plt.show()"
   ]
  },
  {
   "cell_type": "code",
   "execution_count": 18,
   "id": "06194b26",
   "metadata": {},
   "outputs": [],
   "source": [
    "## Sort the DataFrame to find the 10 best-performing countries\n",
    "bottom_10_waste = df.sort_values(by='combined figures (kg/capita/year)', ascending=True).head(10)\n"
   ]
  },
  {
   "cell_type": "code",
   "execution_count": 19,
   "id": "20155256",
   "metadata": {},
   "outputs": [
    {
     "data": {
      "image/png": "[encoded data removed]",
      "text/plain": [
       "<Figure size 1200x700 with 1 Axes>"
      ]
     },
     "metadata": {},
     "output_type": "display_data"
    }
   ],
   "source": [
    "## Create a bar plot for the bottom 10 countries\n",
    "plt.figure(figsize=(12, 7))\n",
    "sns.barplot(x='combined figures (kg/capita/year)', y='Country', data=bottom_10_waste, palette='Greens_r')\n",
    "plt.title('Bottom 10 Countries by Food Waste (kg/capita/year)')\n",
    "plt.xlabel('Combined Waste (kg/capita/year)')\n",
    "plt.ylabel('Country')\n",
    "plt.tight_layout()\n",
    "plt.show()"
   ]
  },
  {
   "cell_type": "code",
   "execution_count": 20,
   "id": "ddb83561",
   "metadata": {},
   "outputs": [],
   "source": [
    "## EDA 2: Sector Analysis (Household vs. Retail vs. Food Service)\n",
    "# Calculate the global total waste for each sector by summing the tonnes/year figures\n",
    "sector_totals = df[['Household estimate (tonnes/year)', 'Retail estimate (tonnes/year)', 'Food service estimate (tonnes/year)']].sum()\n"
   ]
  },
  {
   "cell_type": "code",
   "execution_count": 21,
   "id": "4c512ad4",
   "metadata": {},
   "outputs": [
    {
     "data": {
      "image/png": "[encoded data removed]",
      "text/plain": [
       "<Figure size 800x800 with 1 Axes>"
      ]
     },
     "metadata": {},
     "output_type": "display_data"
    }
   ],
   "source": [
    "## Create a pie chart to show the proportion of waste from each sector\n",
    "plt.figure(figsize=(8, 8))\n",
    "plt.pie(sector_totals, labels=sector_totals.index, autopct='%1.1f%%', startangle=140, colors=sns.color_palette('pastel'))\n",
    "plt.title('Global Food Waste Distribution by Sector')\n",
    "plt.ylabel('') ## Hide the y-label for pie charts\n",
    "plt.show()"
   ]
  },
  {
   "cell_type": "code",
   "execution_count": 22,
   "id": "5a460c77",
   "metadata": {},
   "outputs": [
    {
     "data": {
      "image/png": "[encoded data removed]",
      "text/plain": [
       "<Figure size 1200x700 with 1 Axes>"
      ]
     },
     "metadata": {},
     "output_type": "display_data"
    }
   ],
   "source": [
    "## EDA 3: Regional Analysis\n",
    "# Group data by 'Region' and calculate the mean waste per capita\n",
    "regional_waste = df.groupby('Region')['combined figures (kg/capita/year)'].mean().sort_values(ascending=False).reset_index()\n",
    "\n",
    "# Create a bar plot to compare regions\n",
    "plt.figure(figsize=(12, 7))\n",
    "sns.barplot(x='combined figures (kg/capita/year)', y='Region', data=regional_waste, palette='viridis')\n",
    "plt.title('Average Food Waste per Capita by Region')\n",
    "plt.xlabel('Average Combined Waste (kg/capita/year)')\n",
    "plt.ylabel('Region')\n",
    "plt.tight_layout()\n",
    "plt.show()\n"
   ]
  },
  {
   "cell_type": "code",
   "execution_count": 23,
   "id": "48b9d822",
   "metadata": {},
   "outputs": [
    {
     "data": {
      "application/vnd.plotly.v1+json": {
       "config": {
        "plotlyServerURL": "https://plot.ly"
       },
       "data": [
        {
         "coloraxis": "coloraxis",
         "geo": "geo",
         "hovertemplate": "<b>%{hovertext}</b><br><br>Country=%{location}<br>combined figures (kg/capita/year)=%{z}<extra></extra>",
         "hovertext": [
          "Afghanistan",
          "Albania",
          "Algeria",
          "Andorra",
          "Angola",
          "Antigua and Barbuda",
          "Argentina",
          "Armenia",
          "Aruba",
          "Australia",
          "Austria",
          "Azerbaijan",
          "Bahamas",
          "Bahrain",
          "Bangladesh",
          "Barbados",
          "Belarus",
          "Belgium",
          "Belize",
          "Benin",
          "Bermuda",
          "Bhutan",
          "Bolivia (Plurin. State of)",
          "Bosnia and Herzegovina",
          "Botswana",
          "Brazil",
          "British Virgin Islands",
          "Brunei Darussalam",
          "Bulgaria",
          "Burkina Faso",
          "Burundi",
          "Cabo Verde",
          "Cambodia",
          "Cameroon",
          "Canada",
          "Cayman Islands",
          "Central African Republic",
          "Chad",
          "Chile",
          "China",
          "China, Hong Kong SAR",
          "China, Macao SAR",
          "Colombia",
          "Comoros",
          "Congo",
          "Costa Rica",
          "Côte d’Ivoire",
          "Croatia",
          "Cuba",
          "Curaçao",
          "Cyprus",
          "Czechia",
          "Dem. People's Rep. Korea",
          "Dem. Rep. of the Congo",
          "Denmark",
          "Djibouti",
          "Dominica",
          "Dominican Republic",
          "Ecuador",
          "Egypt",
          "El Salvador",
          "Equatorial Guinea",
          "Eritrea",
          "Estonia",
          "Eswatini",
          "Ethiopia",
          "Faroe Islands",
          "Fiji",
          "Finland",
          "France",
          "French Polynesia",
          "Gabon",
          "Gambia",
          "Georgia",
          "Germany",
          "Ghana",
          "Gibraltar",
          "Greece",
          "Greenland",
          "Grenada",
          "Guam",
          "Guatemala",
          "Guinea",
          "Guinea-Bissau",
          "Guyana",
          "Haiti",
          "Honduras",
          "Hungary",
          "Iceland",
          "India",
          "Indonesia",
          "Iran (Islamic Republic of)",
          "Iraq",
          "Ireland",
          "Isle of Man",
          "Israel",
          "Italy",
          "Jamaica",
          "Japan",
          "Jordan",
          "Kazakhstan",
          "Kenya",
          "Kiribati",
          "Kuwait",
          "Kyrgyzstan",
          "Lao People's Dem. Rep.",
          "Latvia",
          "Lebanon",
          "Lesotho",
          "Liberia",
          "Libya",
          "Liechtenstein",
          "Lithuania",
          "Luxembourg",
          "Madagascar",
          "Malawi",
          "Malaysia",
          "Maldives",
          "Mali",
          "Malta",
          "Marshall Islands",
          "Mauritania",
          "Mauritius",
          "Mexico",
          "Micronesia (Fed. States of)",
          "Monaco",
          "Mongolia",
          "Montenegro",
          "Morocco",
          "Mozambique",
          "Myanmar",
          "Namibia",
          "Nauru",
          "Nepal",
          "Netherlands",
          "New Caledonia",
          "New Zealand",
          "Nicaragua",
          "Niger",
          "Nigeria",
          "North Macedonia",
          "Northern Mariana Islands",
          "Norway",
          "Oman",
          "Pakistan",
          "Palau",
          "Panama",
          "Papua New Guinea",
          "Paraguay",
          "Peru",
          "Philippines",
          "Poland",
          "Portugal",
          "Puerto Rico",
          "Qatar",
          "Republic of Korea",
          "Republic of Moldova",
          "Romania",
          "Russian Federation",
          "Rwanda",
          "Saint Kitts and Nevis",
          "Saint Lucia",
          "Saint Martin (French part)",
          "Saint Vincent & Grenadines",
          "Samoa",
          "San Marino",
          "Sao Tome and Principe",
          "Saudi Arabia",
          "Senegal",
          "Serbia",
          "Seychelles",
          "Sierra Leone",
          "Singapore",
          "Sint Maarten (Dutch part)",
          "Slovakia",
          "Slovenia",
          "Solomon Islands",
          "Somalia",
          "South Africa",
          "South Sudan",
          "Spain",
          "Sri Lanka",
          "State of Palestine",
          "Sudan",
          "Suriname",
          "Sweden",
          "Switzerland",
          "Syrian Arab Republic",
          "Tajikistan",
          "Thailand",
          "Timor-Leste",
          "Togo",
          "Tonga",
          "Trinidad and Tobago",
          "Tunisia",
          "Turkey",
          "Turkmenistan",
          "Turks and Caicos Islands",
          "Tuvalu",
          "Uganda",
          "Ukraine",
          "United Arab Emirates",
          "United Kingdom",
          "United Rep. of Tanzania",
          "United States of America",
          "United States Virgin Islands",
          "Uruguay",
          "Uzbekistan",
          "Vanuatu",
          "Venezuela (Boliv. Rep. of)",
          "Viet Nam",
          "Yemen",
          "Zambia",
          "Zimbabwe"
         ],
         "locationmode": "country names",
         "locations": [
          "Afghanistan",
          "Albania",
          "Algeria",
          "Andorra",
          "Angola",
          "Antigua and Barbuda",
          "Argentina",
          "Armenia",
          "Aruba",
          "Australia",
          "Austria",
          "Azerbaijan",
          "Bahamas",
          "Bahrain",
          "Bangladesh",
          "Barbados",
          "Belarus",
          "Belgium",
          "Belize",
          "Benin",
          "Bermuda",
          "Bhutan",
          "Bolivia (Plurin. State of)",
          "Bosnia and Herzegovina",
          "Botswana",
          "Brazil",
          "British Virgin Islands",
          "Brunei Darussalam",
          "Bulgaria",
          "Burkina Faso",
          "Burundi",
          "Cabo Verde",
          "Cambodia",
          "Cameroon",
          "Canada",
          "Cayman Islands",
          "Central African Republic",
          "Chad",
          "Chile",
          "China",
          "China, Hong Kong SAR",
          "China, Macao SAR",
          "Colombia",
          "Comoros",
          "Congo",
          "Costa Rica",
          "Côte d’Ivoire",
          "Croatia",
          "Cuba",
          "Curaçao",
          "Cyprus",
          "Czechia",
          "Dem. People's Rep. Korea",
          "Dem. Rep. of the Congo",
          "Denmark",
          "Djibouti",
          "Dominica",
          "Dominican Republic",
          "Ecuador",
          "Egypt",
          "El Salvador",
          "Equatorial Guinea",
          "Eritrea",
          "Estonia",
          "Eswatini",
          "Ethiopia",
          "Faroe Islands",
          "Fiji",
          "Finland",
          "France",
          "French Polynesia",
          "Gabon",
          "Gambia",
          "Georgia",
          "Germany",
          "Ghana",
          "Gibraltar",
          "Greece",
          "Greenland",
          "Grenada",
          "Guam",
          "Guatemala",
          "Guinea",
          "Guinea-Bissau",
          "Guyana",
          "Haiti",
          "Honduras",
          "Hungary",
          "Iceland",
          "India",
          "Indonesia",
          "Iran (Islamic Republic of)",
          "Iraq",
          "Ireland",
          "Isle of Man",
          "Israel",
          "Italy",
          "Jamaica",
          "Japan",
          "Jordan",
          "Kazakhstan",
          "Kenya",
          "Kiribati",
          "Kuwait",
          "Kyrgyzstan",
          "Lao People's Dem. Rep.",
          "Latvia",
          "Lebanon",
          "Lesotho",
          "Liberia",
          "Libya",
          "Liechtenstein",
          "Lithuania",
          "Luxembourg",
          "Madagascar",
          "Malawi",
          "Malaysia",
          "Maldives",
          "Mali",
          "Malta",
          "Marshall Islands",
          "Mauritania",
          "Mauritius",
          "Mexico",
          "Micronesia (Fed. States of)",
          "Monaco",
          "Mongolia",
          "Montenegro",
          "Morocco",
          "Mozambique",
          "Myanmar",
          "Namibia",
          "Nauru",
          "Nepal",
          "Netherlands",
          "New Caledonia",
          "New Zealand",
          "Nicaragua",
          "Niger",
          "Nigeria",
          "North Macedonia",
          "Northern Mariana Islands",
          "Norway",
          "Oman",
          "Pakistan",
          "Palau",
          "Panama",
          "Papua New Guinea",
          "Paraguay",
          "Peru",
          "Philippines",
          "Poland",
          "Portugal",
          "Puerto Rico",
          "Qatar",
          "Republic of Korea",
          "Republic of Moldova",
          "Romania",
          "Russian Federation",
          "Rwanda",
          "Saint Kitts and Nevis",
          "Saint Lucia",
          "Saint Martin (French part)",
          "Saint Vincent & Grenadines",
          "Samoa",
          "San Marino",
          "Sao Tome and Principe",
          "Saudi Arabia",
          "Senegal",
          "Serbia",
          "Seychelles",
          "Sierra Leone",
          "Singapore",
          "Sint Maarten (Dutch part)",
          "Slovakia",
          "Slovenia",
          "Solomon Islands",
          "Somalia",
          "South Africa",
          "South Sudan",
          "Spain",
          "Sri Lanka",
          "State of Palestine",
          "Sudan",
          "Suriname",
          "Sweden",
          "Switzerland",
          "Syrian Arab Republic",
          "Tajikistan",
          "Thailand",
          "Timor-Leste",
          "Togo",
          "Tonga",
          "Trinidad and Tobago",
          "Tunisia",
          "Turkey",
          "Turkmenistan",
          "Turks and Caicos Islands",
          "Tuvalu",
          "Uganda",
          "Ukraine",
          "United Arab Emirates",
          "United Kingdom",
          "United Rep. of Tanzania",
          "United States of America",
          "United States Virgin Islands",
          "Uruguay",
          "Uzbekistan",
          "Vanuatu",
          "Venezuela (Boliv. Rep. of)",
          "Viet Nam",
          "Yemen",
          "Zambia",
          "Zimbabwe"
         ],
         "name": "",
         "type": "choropleth",
         "z": {
          "bdata": "fgB/AIcAewCQAHEAdACJAHEAhQBMAIkAcQCrAFQAcQBwAFAAYQCQAHEAewB8AH8AiABoAHEAdwBwAJMAkwCQAIIAkAB2AHEAkwCTAHEAfgBuAG4AcgCQAJAAdACQAHsAdABxAIYAbQB9AJMAhACQAHQAdAB0AIcAfACIAJMAZACQAIgAcwB4AGUAhwB2AIgAkwCRAGYAgAB7AK8AcQB0AHYAdACTAJMAdAB/AHwAhQBzAF4AeQBzAKQAfABzALIAYQB0AFgAiQB4AI0AhwCGAIcAggBzAJUAkACTAHgAbwBzAHUAkwCTAAQBcwCTAKgAeACQAIQAigCHAG8AegB/AIcAkwCCAIgAdgB7AFcAdgBaAHwAkwDpAH8AdgBiAIYAdgB2AHEAhwB0AHQAggBfAHsAcQCGAG4AeABtAEsA0ABxAHQAcQB0AHgAewCQAJcAkABpAIQAkwB3AHEAbQA9AIcAkwBUAJMAdAB4AJEAjQB0AHAAfQCUAI0AewCCAJMAeABxAIcAiQB4AHEAeACTAHgAhgBiAKMAiwBxAHEAhwCHAHQAeACUAHoAkAA=",
          "dtype": "i2"
         }
        }
       ],
       "layout": {
        "coloraxis": {
         "colorbar": {
          "title": {
           "text": "combined figures (kg/capita/year)"
          }
         },
         "colorscale": [
          [
           0,
           "rgb(255,255,204)"
          ],
          [
           0.125,
           "rgb(255,237,160)"
          ],
          [
           0.25,
           "rgb(254,217,118)"
          ],
          [
           0.375,
           "rgb(254,178,76)"
          ],
          [
           0.5,
           "rgb(253,141,60)"
          ],
          [
           0.625,
           "rgb(252,78,42)"
          ],
          [
           0.75,
           "rgb(227,26,28)"
          ],
          [
           0.875,
           "rgb(189,0,38)"
          ],
          [
           1,
           "rgb(128,0,38)"
          ]
         ]
        },
        "geo": {
         "center": {},
         "domain": {
          "x": [
           0,
           1
          ],
          "y": [
           0,
           1
          ]
         }
        },
        "legend": {
         "tracegroupgap": 0
        },
        "template": {
         "data": {
          "bar": [
           {
            "error_x": {
             "color": "#2a3f5f"
            },
            "error_y": {
             "color": "#2a3f5f"
            },
            "marker": {
             "line": {
              "color": "#E5ECF6",
              "width": 0.5
             },
             "pattern": {
              "fillmode": "overlay",
              "size": 10,
              "solidity": 0.2
             }
            },
            "type": "bar"
           }
          ],
          "barpolar": [
           {
            "marker": {
             "line": {
              "color": "#E5ECF6",
              "width": 0.5
             },
             "pattern": {
              "fillmode": "overlay",
              "size": 10,
              "solidity": 0.2
             }
            },
            "type": "barpolar"
           }
          ],
          "carpet": [
           {
            "aaxis": {
             "endlinecolor": "#2a3f5f",
             "gridcolor": "white",
             "linecolor": "white",
             "minorgridcolor": "white",
             "startlinecolor": "#2a3f5f"
            },
            "baxis": {
             "endlinecolor": "#2a3f5f",
             "gridcolor": "white",
             "linecolor": "white",
             "minorgridcolor": "white",
             "startlinecolor": "#2a3f5f"
            },
            "type": "carpet"
           }
          ],
          "choropleth": [
           {
            "colorbar": {
             "outlinewidth": 0,
             "ticks": ""
            },
            "type": "choropleth"
           }
          ],
          "contour": [
           {
            "colorbar": {
             "outlinewidth": 0,
             "ticks": ""
            },
            "colorscale": [
             [
              0,
              "#0d0887"
             ],
             [
              0.1111111111111111,
              "#46039f"
             ],
             [
              0.2222222222222222,
              "#7201a8"
             ],
             [
              0.3333333333333333,
              "#9c179e"
             ],
             [
              0.4444444444444444,
              "#bd3786"
             ],
             [
              0.5555555555555556,
              "#d8576b"
             ],
             [
              0.6666666666666666,
              "#ed7953"
             ],
             [
              0.7777777777777778,
              "#fb9f3a"
             ],
             [
              0.8888888888888888,
              "#fdca26"
             ],
             [
              1,
              "#f0f921"
             ]
            ],
            "type": "contour"
           }
          ],
          "contourcarpet": [
           {
            "colorbar": {
             "outlinewidth": 0,
             "ticks": ""
            },
            "type": "contourcarpet"
           }
          ],
          "heatmap": [
           {
            "colorbar": {
             "outlinewidth": 0,
             "ticks": ""
            },
            "colorscale": [
             [
              0,
              "#0d0887"
             ],
             [
              0.1111111111111111,
              "#46039f"
             ],
             [
              0.2222222222222222,
              "#7201a8"
             ],
             [
              0.3333333333333333,
              "#9c179e"
             ],
             [
              0.4444444444444444,
              "#bd3786"
             ],
             [
              0.5555555555555556,
              "#d8576b"
             ],
             [
              0.6666666666666666,
              "#ed7953"
             ],
             [
              0.7777777777777778,
              "#fb9f3a"
             ],
             [
              0.8888888888888888,
              "#fdca26"
             ],
             [
              1,
              "#f0f921"
             ]
            ],
            "type": "heatmap"
           }
          ],
          "histogram": [
           {
            "marker": {
             "pattern": {
              "fillmode": "overlay",
              "size": 10,
              "solidity": 0.2
             }
            },
            "type": "histogram"
           }
          ],
          "histogram2d": [
           {
            "colorbar": {
             "outlinewidth": 0,
             "ticks": ""
            },
            "colorscale": [
             [
              0,
              "#0d0887"
             ],
             [
              0.1111111111111111,
              "#46039f"
             ],
             [
              0.2222222222222222,
              "#7201a8"
             ],
             [
              0.3333333333333333,
              "#9c179e"
             ],
             [
              0.4444444444444444,
              "#bd3786"
             ],
             [
              0.5555555555555556,
              "#d8576b"
             ],
             [
              0.6666666666666666,
              "#ed7953"
             ],
             [
              0.7777777777777778,
              "#fb9f3a"
             ],
             [
              0.8888888888888888,
              "#fdca26"
             ],
             [
              1,
              "#f0f921"
             ]
            ],
            "type": "histogram2d"
           }
          ],
          "histogram2dcontour": [
           {
            "colorbar": {
             "outlinewidth": 0,
             "ticks": ""
            },
            "colorscale": [
             [
              0,
              "#0d0887"
             ],
             [
              0.1111111111111111,
              "#46039f"
             ],
             [
              0.2222222222222222,
              "#7201a8"
             ],
             [
              0.3333333333333333,
              "#9c179e"
             ],
             [
              0.4444444444444444,
              "#bd3786"
             ],
             [
              0.5555555555555556,
              "#d8576b"
             ],
             [
              0.6666666666666666,
              "#ed7953"
             ],
             [
              0.7777777777777778,
              "#fb9f3a"
             ],
             [
              0.8888888888888888,
              "#fdca26"
             ],
             [
              1,
              "#f0f921"
             ]
            ],
            "type": "histogram2dcontour"
           }
          ],
          "mesh3d": [
           {
            "colorbar": {
             "outlinewidth": 0,
             "ticks": ""
            },
            "type": "mesh3d"
           }
          ],
          "parcoords": [
           {
            "line": {
             "colorbar": {
              "outlinewidth": 0,
              "ticks": ""
             }
            },
            "type": "parcoords"
           }
          ],
          "pie": [
           {
            "automargin": true,
            "type": "pie"
           }
          ],
          "scatter": [
           {
            "fillpattern": {
             "fillmode": "overlay",
             "size": 10,
             "solidity": 0.2
            },
            "type": "scatter"
           }
          ],
          "scatter3d": [
           {
            "line": {
             "colorbar": {
              "outlinewidth": 0,
              "ticks": ""
             }
            },
            "marker": {
             "colorbar": {
              "outlinewidth": 0,
              "ticks": ""
             }
            },
            "type": "scatter3d"
           }
          ],
          "scattercarpet": [
           {
            "marker": {
             "colorbar": {
              "outlinewidth": 0,
              "ticks": ""
             }
            },
            "type": "scattercarpet"
           }
          ],
          "scattergeo": [
           {
            "marker": {
             "colorbar": {
              "outlinewidth": 0,
              "ticks": ""
             }
            },
            "type": "scattergeo"
           }
          ],
          "scattergl": [
           {
            "marker": {
             "colorbar": {
              "outlinewidth": 0,
              "ticks": ""
             }
            },
            "type": "scattergl"
           }
          ],
          "scattermap": [
           {
            "marker": {
             "colorbar": {
              "outlinewidth": 0,
              "ticks": ""
             }
            },
            "type": "scattermap"
           }
          ],
          "scattermapbox": [
           {
            "marker": {
             "colorbar": {
              "outlinewidth": 0,
              "ticks": ""
             }
            },
            "type": "scattermapbox"
           }
          ],
          "scatterpolar": [
           {
            "marker": {
             "colorbar": {
              "outlinewidth": 0,
              "ticks": ""
             }
            },
            "type": "scatterpolar"
           }
          ],
          "scatterpolargl": [
           {
            "marker": {
             "colorbar": {
              "outlinewidth": 0,
              "ticks": ""
             }
            },
            "type": "scatterpolargl"
           }
          ],
          "scatterternary": [
           {
            "marker": {
             "colorbar": {
              "outlinewidth": 0,
              "ticks": ""
             }
            },
            "type": "scatterternary"
           }
          ],
          "surface": [
           {
            "colorbar": {
             "outlinewidth": 0,
             "ticks": ""
            },
            "colorscale": [
             [
              0,
              "#0d0887"
             ],
             [
              0.1111111111111111,
              "#46039f"
             ],
             [
              0.2222222222222222,
              "#7201a8"
             ],
             [
              0.3333333333333333,
              "#9c179e"
             ],
             [
              0.4444444444444444,
              "#bd3786"
             ],
             [
              0.5555555555555556,
              "#d8576b"
             ],
             [
              0.6666666666666666,
              "#ed7953"
             ],
             [
              0.7777777777777778,
              "#fb9f3a"
             ],
             [
              0.8888888888888888,
              "#fdca26"
             ],
             [
              1,
              "#f0f921"
             ]
            ],
            "type": "surface"
           }
          ],
          "table": [
           {
            "cells": {
             "fill": {
              "color": "#EBF0F8"
             },
             "line": {
              "color": "white"
             }
            },
            "header": {
             "fill": {
              "color": "#C8D4E3"
             },
             "line": {
              "color": "white"
             }
            },
            "type": "table"
           }
          ]
         },
         "layout": {
          "annotationdefaults": {
           "arrowcolor": "#2a3f5f",
           "arrowhead": 0,
           "arrowwidth": 1
          },
          "autotypenumbers": "strict",
          "coloraxis": {
           "colorbar": {
            "outlinewidth": 0,
            "ticks": ""
           }
          },
          "colorscale": {
           "diverging": [
            [
             0,
             "#8e0152"
            ],
            [
             0.1,
             "#c51b7d"
            ],
            [
             0.2,
             "#de77ae"
            ],
            [
             0.3,
             "#f1b6da"
            ],
            [
             0.4,
             "#fde0ef"
            ],
            [
             0.5,
             "#f7f7f7"
            ],
            [
             0.6,
             "#e6f5d0"
            ],
            [
             0.7,
             "#b8e186"
            ],
            [
             0.8,
             "#7fbc41"
            ],
            [
             0.9,
             "#4d9221"
            ],
            [
             1,
             "#276419"
            ]
           ],
           "sequential": [
            [
             0,
             "#0d0887"
            ],
            [
             0.1111111111111111,
             "#46039f"
            ],
            [
             0.2222222222222222,
             "#7201a8"
            ],
            [
             0.3333333333333333,
             "#9c179e"
            ],
            [
             0.4444444444444444,
             "#bd3786"
            ],
            [
             0.5555555555555556,
             "#d8576b"
            ],
            [
             0.6666666666666666,
             "#ed7953"
            ],
            [
             0.7777777777777778,
             "#fb9f3a"
            ],
            [
             0.8888888888888888,
             "#fdca26"
            ],
            [
             1,
             "#f0f921"
            ]
           ],
           "sequentialminus": [
            [
             0,
             "#0d0887"
            ],
            [
             0.1111111111111111,
             "#46039f"
            ],
            [
             0.2222222222222222,
             "#7201a8"
            ],
            [
             0.3333333333333333,
             "#9c179e"
            ],
            [
             0.4444444444444444,
             "#bd3786"
            ],
            [
             0.5555555555555556,
             "#d8576b"
            ],
            [
             0.6666666666666666,
             "#ed7953"
            ],
            [
             0.7777777777777778,
             "#fb9f3a"
            ],
            [
             0.8888888888888888,
             "#fdca26"
            ],
            [
             1,
             "#f0f921"
            ]
           ]
          },
          "colorway": [
           "#636efa",
           "#EF553B",
           "#00cc96",
           "#ab63fa",
           "#FFA15A",
           "#19d3f3",
           "#FF6692",
           "#B6E880",
           "#FF97FF",
           "#FECB52"
          ],
          "font": {
           "color": "#2a3f5f"
          },
          "geo": {
           "bgcolor": "white",
           "lakecolor": "white",
           "landcolor": "#E5ECF6",
           "showlakes": true,
           "showland": true,
           "subunitcolor": "white"
          },
          "hoverlabel": {
           "align": "left"
          },
          "hovermode": "closest",
          "mapbox": {
           "style": "light"
          },
          "paper_bgcolor": "white",
          "plot_bgcolor": "#E5ECF6",
          "polar": {
           "angularaxis": {
            "gridcolor": "white",
            "linecolor": "white",
            "ticks": ""
           },
           "bgcolor": "#E5ECF6",
           "radialaxis": {
            "gridcolor": "white",
            "linecolor": "white",
            "ticks": ""
           }
          },
          "scene": {
           "xaxis": {
            "backgroundcolor": "#E5ECF6",
            "gridcolor": "white",
            "gridwidth": 2,
            "linecolor": "white",
            "showbackground": true,
            "ticks": "",
            "zerolinecolor": "white"
           },
           "yaxis": {
            "backgroundcolor": "#E5ECF6",
            "gridcolor": "white",
            "gridwidth": 2,
            "linecolor": "white",
            "showbackground": true,
            "ticks": "",
            "zerolinecolor": "white"
           },
           "zaxis": {
            "backgroundcolor": "#E5ECF6",
            "gridcolor": "white",
            "gridwidth": 2,
            "linecolor": "white",
            "showbackground": true,
            "ticks": "",
            "zerolinecolor": "white"
           }
          },
          "shapedefaults": {
           "line": {
            "color": "#2a3f5f"
           }
          },
          "ternary": {
           "aaxis": {
            "gridcolor": "white",
            "linecolor": "white",
            "ticks": ""
           },
           "baxis": {
            "gridcolor": "white",
            "linecolor": "white",
            "ticks": ""
           },
           "bgcolor": "#E5ECF6",
           "caxis": {
            "gridcolor": "white",
            "linecolor": "white",
            "ticks": ""
           }
          },
          "title": {
           "x": 0.05
          },
          "xaxis": {
           "automargin": true,
           "gridcolor": "white",
           "linecolor": "white",
           "ticks": "",
           "title": {
            "standoff": 15
           },
           "zerolinecolor": "white",
           "zerolinewidth": 2
          },
          "yaxis": {
           "automargin": true,
           "gridcolor": "white",
           "linecolor": "white",
           "ticks": "",
           "title": {
            "standoff": 15
           },
           "zerolinecolor": "white",
           "zerolinewidth": 2
          }
         }
        },
        "title": {
         "text": "Global Food Waste Map (kg/capita/year)"
        }
       }
      }
     },
     "metadata": {},
     "output_type": "display_data"
    }
   ],
   "source": [
    "## EDA 4: Choropleth Map (Advanced Visualization) ---\n",
    "## This map shows food waste per capita across the world\n",
    "## The color of each country corresponds to its waste amount\n",
    "fig = px.choropleth(df,\n",
    "                    locations=\"Country\",         # Column with country names\n",
    "                    locationmode=\"country names\", # Use country names to map\n",
    "                    color=\"combined figures (kg/capita/year)\", # Column to determine color\n",
    "                    hover_name=\"Country\",        # What to show when you hover\n",
    "                    color_continuous_scale=px.colors.sequential.YlOrRd, # Color scale\n",
    "                    title=\"Global Food Waste Map (kg/capita/year)\")\n",
    "fig.show()"
   ]
  },
  {
   "cell_type": "code",
   "execution_count": 24,
   "id": "8e7a773c",
   "metadata": {},
   "outputs": [
    {
     "data": {
      "image/png": "[encoded data removed]",
      "text/plain": [
       "<Figure size 1000x600 with 1 Axes>"
      ]
     },
     "metadata": {},
     "output_type": "display_data"
    }
   ],
   "source": [
    "## EDA 5: Confidence in Estimate Analysis ---\n",
    "## Use a box plot to see the distribution of waste for each level of confidence\n",
    "plt.figure(figsize=(10, 6))\n",
    "sns.boxplot(x='Confidence in estimate', y='combined figures (kg/capita/year)', data=df)\n",
    "plt.title('Waste Distribution by Confidence Level')\n",
    "plt.xlabel('Confidence in Estimate')\n",
    "plt.ylabel('Combined Waste (kg/capita/year)')\n",
    "plt.tight_layout()\n",
    "plt.show()"
   ]
  },
  {
   "cell_type": "code",
   "execution_count": 25,
   "id": "13fb2d5e",
   "metadata": {},
   "outputs": [
    {
     "name": "stdout",
     "output_type": "stream",
     "text": [
      "\n",
      "--- Starting Machine Learning (Clustering) ---\n"
     ]
    }
   ],
   "source": [
    "##PHASE 4: MACHINE LEARNING (K-MEANS CLUSTERING)\n",
    "\n",
    "print(\"\\n--- Starting Machine Learning (Clustering) ---\")\n"
   ]
  },
  {
   "cell_type": "code",
   "execution_count": 26,
   "id": "e5abc3ca",
   "metadata": {},
   "outputs": [],
   "source": [
    "## Select the features we want to use to group the countries\n",
    "## We use the per capita figures for a fair comparison\n",
    "features = ['Household estimate (kg/capita/year)', 'Retail estimate (kg/capita/year)', 'Food service estimate (kg/capita/year)']\n",
    "cluster_data = df[features].copy()\n"
   ]
  },
  {
   "cell_type": "code",
   "execution_count": 27,
   "id": "40221b9f",
   "metadata": {},
   "outputs": [],
   "source": [
    "## Scale the data: This is CRUCIAL for distance-based algorithms like K-Means\n",
    "## It ensures all features have a similar weight\n",
    "scaler = StandardScaler()\n",
    "scaled_data = scaler.fit_transform(cluster_data)"
   ]
  },
  {
   "cell_type": "code",
   "execution_count": 28,
   "id": "2a1fbb11",
   "metadata": {},
   "outputs": [
    {
     "data": {
      "image/png": "[encoded data removed]",
      "text/plain": [
       "<Figure size 800x500 with 1 Axes>"
      ]
     },
     "metadata": {},
     "output_type": "display_data"
    }
   ],
   "source": [
    "\n",
    "# Use the Elbow Method to find a good number of clusters (k)\n",
    "inertia = []\n",
    "k_range = range(1, 11)\n",
    "for k in k_range:\n",
    "    kmeans = KMeans(n_clusters=k, random_state=42, n_init=10)\n",
    "    kmeans.fit(scaled_data)\n",
    "    inertia.append(kmeans.inertia_)\n",
    "\n",
    "# Plot the Elbow Method results\n",
    "plt.figure(figsize=(8, 5))\n",
    "plt.plot(k_range, inertia, marker='o')\n",
    "plt.title('Elbow Method for Optimal k')\n",
    "plt.xlabel('Number of Clusters (k)')\n",
    "plt.ylabel('Inertia')\n",
    "plt.xticks(k_range)\n",
    "plt.show()\n",
    "# From the plot, choose the 'elbow' point. Let's assume it's k=4 for this example."
   ]
  },
  {
   "cell_type": "code",
   "execution_count": 29,
   "id": "38eec55b",
   "metadata": {},
   "outputs": [
    {
     "data": {
      "text/html": [
       "<style>#sk-container-id-1 {\n",
       "  /* Definition of color scheme common for light and dark mode */\n",
       "  --sklearn-color-text: #000;\n",
       "  --sklearn-color-text-muted: #666;\n",
       "  --sklearn-color-line: gray;\n",
       "  /* Definition of color scheme for unfitted estimators */\n",
       "  --sklearn-color-unfitted-level-0: #fff5e6;\n",
       "  --sklearn-color-unfitted-level-1: #f6e4d2;\n",
       "  --sklearn-color-unfitted-level-2: #ffe0b3;\n",
       "  --sklearn-color-unfitted-level-3: chocolate;\n",
       "  /* Definition of color scheme for fitted estimators */\n",
       "  --sklearn-color-fitted-level-0: #f0f8ff;\n",
       "  --sklearn-color-fitted-level-1: #d4ebff;\n",
       "  --sklearn-color-fitted-level-2: #b3dbfd;\n",
       "  --sklearn-color-fitted-level-3: cornflowerblue;\n",
       "\n",
       "  /* Specific color for light theme */\n",
       "  --sklearn-color-text-on-default-background: var(--sg-text-color, var(--theme-code-foreground, var(--jp-content-font-color1, black)));\n",
       "  --sklearn-color-background: var(--sg-background-color, var(--theme-background, var(--jp-layout-color0, white)));\n",
       "  --sklearn-color-border-box: var(--sg-text-color, var(--theme-code-foreground, var(--jp-content-font-color1, black)));\n",
       "  --sklearn-color-icon: #696969;\n",
       "\n",
       "  @media (prefers-color-scheme: dark) {\n",
       "    /* Redefinition of color scheme for dark theme */\n",
       "    --sklearn-color-text-on-default-background: var(--sg-text-color, var(--theme-code-foreground, var(--jp-content-font-color1, white)));\n",
       "    --sklearn-color-background: var(--sg-background-color, var(--theme-background, var(--jp-layout-color0, #111)));\n",
       "    --sklearn-color-border-box: var(--sg-text-color, var(--theme-code-foreground, var(--jp-content-font-color1, white)));\n",
       "    --sklearn-color-icon: #878787;\n",
       "  }\n",
       "}\n",
       "\n",
       "#sk-container-id-1 {\n",
       "  color: var(--sklearn-color-text);\n",
       "}\n",
       "\n",
       "#sk-container-id-1 pre {\n",
       "  padding: 0;\n",
       "}\n",
       "\n",
       "#sk-container-id-1 input.sk-hidden--visually {\n",
       "  border: 0;\n",
       "  clip: rect(1px 1px 1px 1px);\n",
       "  clip: rect(1px, 1px, 1px, 1px);\n",
       "  height: 1px;\n",
       "  margin: -1px;\n",
       "  overflow: hidden;\n",
       "  padding: 0;\n",
       "  position: absolute;\n",
       "  width: 1px;\n",
       "}\n",
       "\n",
       "#sk-container-id-1 div.sk-dashed-wrapped {\n",
       "  border: 1px dashed var(--sklearn-color-line);\n",
       "  margin: 0 0.4em 0.5em 0.4em;\n",
       "  box-sizing: border-box;\n",
       "  padding-bottom: 0.4em;\n",
       "  background-color: var(--sklearn-color-background);\n",
       "}\n",
       "\n",
       "#sk-container-id-1 div.sk-container {\n",
       "  /* jupyter's `normalize.less` sets `[hidden] { display: none; }`\n",
       "     but bootstrap.min.css set `[hidden] { display: none !important; }`\n",
       "     so we also need the `!important` here to be able to override the\n",
       "     default hidden behavior on the sphinx rendered scikit-learn.org.\n",
       "     See: https://github.com/scikit-learn/scikit-learn/issues/21755 */\n",
       "  display: inline-block !important;\n",
       "  position: relative;\n",
       "}\n",
       "\n",
       "#sk-container-id-1 div.sk-text-repr-fallback {\n",
       "  display: none;\n",
       "}\n",
       "\n",
       "div.sk-parallel-item,\n",
       "div.sk-serial,\n",
       "div.sk-item {\n",
       "  /* draw centered vertical line to link estimators */\n",
       "  background-image: linear-gradient(var(--sklearn-color-text-on-default-background), var(--sklearn-color-text-on-default-background));\n",
       "  background-size: 2px 100%;\n",
       "  background-repeat: no-repeat;\n",
       "  background-position: center center;\n",
       "}\n",
       "\n",
       "/* Parallel-specific style estimator block */\n",
       "\n",
       "#sk-container-id-1 div.sk-parallel-item::after {\n",
       "  content: \"\";\n",
       "  width: 100%;\n",
       "  border-bottom: 2px solid var(--sklearn-color-text-on-default-background);\n",
       "  flex-grow: 1;\n",
       "}\n",
       "\n",
       "#sk-container-id-1 div.sk-parallel {\n",
       "  display: flex;\n",
       "  align-items: stretch;\n",
       "  justify-content: center;\n",
       "  background-color: var(--sklearn-color-background);\n",
       "  position: relative;\n",
       "}\n",
       "\n",
       "#sk-container-id-1 div.sk-parallel-item {\n",
       "  display: flex;\n",
       "  flex-direction: column;\n",
       "}\n",
       "\n",
       "#sk-container-id-1 div.sk-parallel-item:first-child::after {\n",
       "  align-self: flex-end;\n",
       "  width: 50%;\n",
       "}\n",
       "\n",
       "#sk-container-id-1 div.sk-parallel-item:last-child::after {\n",
       "  align-self: flex-start;\n",
       "  width: 50%;\n",
       "}\n",
       "\n",
       "#sk-container-id-1 div.sk-parallel-item:only-child::after {\n",
       "  width: 0;\n",
       "}\n",
       "\n",
       "/* Serial-specific style estimator block */\n",
       "\n",
       "#sk-container-id-1 div.sk-serial {\n",
       "  display: flex;\n",
       "  flex-direction: column;\n",
       "  align-items: center;\n",
       "  background-color: var(--sklearn-color-background);\n",
       "  padding-right: 1em;\n",
       "  padding-left: 1em;\n",
       "}\n",
       "\n",
       "\n",
       "/* Toggleable style: style used for estimator/Pipeline/ColumnTransformer box that is\n",
       "clickable and can be expanded/collapsed.\n",
       "- Pipeline and ColumnTransformer use this feature and define the default style\n",
       "- Estimators will overwrite some part of the style using the `sk-estimator` class\n",
       "*/\n",
       "\n",
       "/* Pipeline and ColumnTransformer style (default) */\n",
       "\n",
       "#sk-container-id-1 div.sk-toggleable {\n",
       "  /* Default theme specific background. It is overwritten whether we have a\n",
       "  specific estimator or a Pipeline/ColumnTransformer */\n",
       "  background-color: var(--sklearn-color-background);\n",
       "}\n",
       "\n",
       "/* Toggleable label */\n",
       "#sk-container-id-1 label.sk-toggleable__label {\n",
       "  cursor: pointer;\n",
       "  display: flex;\n",
       "  width: 100%;\n",
       "  margin-bottom: 0;\n",
       "  padding: 0.5em;\n",
       "  box-sizing: border-box;\n",
       "  text-align: center;\n",
       "  align-items: start;\n",
       "  justify-content: space-between;\n",
       "  gap: 0.5em;\n",
       "}\n",
       "\n",
       "#sk-container-id-1 label.sk-toggleable__label .caption {\n",
       "  font-size: 0.6rem;\n",
       "  font-weight: lighter;\n",
       "  color: var(--sklearn-color-text-muted);\n",
       "}\n",
       "\n",
       "#sk-container-id-1 label.sk-toggleable__label-arrow:before {\n",
       "  /* Arrow on the left of the label */\n",
       "  content: \"▸\";\n",
       "  float: left;\n",
       "  margin-right: 0.25em;\n",
       "  color: var(--sklearn-color-icon);\n",
       "}\n",
       "\n",
       "#sk-container-id-1 label.sk-toggleable__label-arrow:hover:before {\n",
       "  color: var(--sklearn-color-text);\n",
       "}\n",
       "\n",
       "/* Toggleable content - dropdown */\n",
       "\n",
       "#sk-container-id-1 div.sk-toggleable__content {\n",
       "  display: none;\n",
       "  text-align: left;\n",
       "  /* unfitted */\n",
       "  background-color: var(--sklearn-color-unfitted-level-0);\n",
       "}\n",
       "\n",
       "#sk-container-id-1 div.sk-toggleable__content.fitted {\n",
       "  /* fitted */\n",
       "  background-color: var(--sklearn-color-fitted-level-0);\n",
       "}\n",
       "\n",
       "#sk-container-id-1 div.sk-toggleable__content pre {\n",
       "  margin: 0.2em;\n",
       "  border-radius: 0.25em;\n",
       "  color: var(--sklearn-color-text);\n",
       "  /* unfitted */\n",
       "  background-color: var(--sklearn-color-unfitted-level-0);\n",
       "}\n",
       "\n",
       "#sk-container-id-1 div.sk-toggleable__content.fitted pre {\n",
       "  /* unfitted */\n",
       "  background-color: var(--sklearn-color-fitted-level-0);\n",
       "}\n",
       "\n",
       "#sk-container-id-1 input.sk-toggleable__control:checked~div.sk-toggleable__content {\n",
       "  /* Expand drop-down */\n",
       "  display: block;\n",
       "  width: 100%;\n",
       "  overflow: visible;\n",
       "}\n",
       "\n",
       "#sk-container-id-1 input.sk-toggleable__control:checked~label.sk-toggleable__label-arrow:before {\n",
       "  content: \"▾\";\n",
       "}\n",
       "\n",
       "/* Pipeline/ColumnTransformer-specific style */\n",
       "\n",
       "#sk-container-id-1 div.sk-label input.sk-toggleable__control:checked~label.sk-toggleable__label {\n",
       "  color: var(--sklearn-color-text);\n",
       "  background-color: var(--sklearn-color-unfitted-level-2);\n",
       "}\n",
       "\n",
       "#sk-container-id-1 div.sk-label.fitted input.sk-toggleable__control:checked~label.sk-toggleable__label {\n",
       "  background-color: var(--sklearn-color-fitted-level-2);\n",
       "}\n",
       "\n",
       "/* Estimator-specific style */\n",
       "\n",
       "/* Colorize estimator box */\n",
       "#sk-container-id-1 div.sk-estimator input.sk-toggleable__control:checked~label.sk-toggleable__label {\n",
       "  /* unfitted */\n",
       "  background-color: var(--sklearn-color-unfitted-level-2);\n",
       "}\n",
       "\n",
       "#sk-container-id-1 div.sk-estimator.fitted input.sk-toggleable__control:checked~label.sk-toggleable__label {\n",
       "  /* fitted */\n",
       "  background-color: var(--sklearn-color-fitted-level-2);\n",
       "}\n",
       "\n",
       "#sk-container-id-1 div.sk-label label.sk-toggleable__label,\n",
       "#sk-container-id-1 div.sk-label label {\n",
       "  /* The background is the default theme color */\n",
       "  color: var(--sklearn-color-text-on-default-background);\n",
       "}\n",
       "\n",
       "/* On hover, darken the color of the background */\n",
       "#sk-container-id-1 div.sk-label:hover label.sk-toggleable__label {\n",
       "  color: var(--sklearn-color-text);\n",
       "  background-color: var(--sklearn-color-unfitted-level-2);\n",
       "}\n",
       "\n",
       "/* Label box, darken color on hover, fitted */\n",
       "#sk-container-id-1 div.sk-label.fitted:hover label.sk-toggleable__label.fitted {\n",
       "  color: var(--sklearn-color-text);\n",
       "  background-color: var(--sklearn-color-fitted-level-2);\n",
       "}\n",
       "\n",
       "/* Estimator label */\n",
       "\n",
       "#sk-container-id-1 div.sk-label label {\n",
       "  font-family: monospace;\n",
       "  font-weight: bold;\n",
       "  display: inline-block;\n",
       "  line-height: 1.2em;\n",
       "}\n",
       "\n",
       "#sk-container-id-1 div.sk-label-container {\n",
       "  text-align: center;\n",
       "}\n",
       "\n",
       "/* Estimator-specific */\n",
       "#sk-container-id-1 div.sk-estimator {\n",
       "  font-family: monospace;\n",
       "  border: 1px dotted var(--sklearn-color-border-box);\n",
       "  border-radius: 0.25em;\n",
       "  box-sizing: border-box;\n",
       "  margin-bottom: 0.5em;\n",
       "  /* unfitted */\n",
       "  background-color: var(--sklearn-color-unfitted-level-0);\n",
       "}\n",
       "\n",
       "#sk-container-id-1 div.sk-estimator.fitted {\n",
       "  /* fitted */\n",
       "  background-color: var(--sklearn-color-fitted-level-0);\n",
       "}\n",
       "\n",
       "/* on hover */\n",
       "#sk-container-id-1 div.sk-estimator:hover {\n",
       "  /* unfitted */\n",
       "  background-color: var(--sklearn-color-unfitted-level-2);\n",
       "}\n",
       "\n",
       "#sk-container-id-1 div.sk-estimator.fitted:hover {\n",
       "  /* fitted */\n",
       "  background-color: var(--sklearn-color-fitted-level-2);\n",
       "}\n",
       "\n",
       "/* Specification for estimator info (e.g. \"i\" and \"?\") */\n",
       "\n",
       "/* Common style for \"i\" and \"?\" */\n",
       "\n",
       ".sk-estimator-doc-link,\n",
       "a:link.sk-estimator-doc-link,\n",
       "a:visited.sk-estimator-doc-link {\n",
       "  float: right;\n",
       "  font-size: smaller;\n",
       "  line-height: 1em;\n",
       "  font-family: monospace;\n",
       "  background-color: var(--sklearn-color-background);\n",
       "  border-radius: 1em;\n",
       "  height: 1em;\n",
       "  width: 1em;\n",
       "  text-decoration: none !important;\n",
       "  margin-left: 0.5em;\n",
       "  text-align: center;\n",
       "  /* unfitted */\n",
       "  border: var(--sklearn-color-unfitted-level-1) 1pt solid;\n",
       "  color: var(--sklearn-color-unfitted-level-1);\n",
       "}\n",
       "\n",
       ".sk-estimator-doc-link.fitted,\n",
       "a:link.sk-estimator-doc-link.fitted,\n",
       "a:visited.sk-estimator-doc-link.fitted {\n",
       "  /* fitted */\n",
       "  border: var(--sklearn-color-fitted-level-1) 1pt solid;\n",
       "  color: var(--sklearn-color-fitted-level-1);\n",
       "}\n",
       "\n",
       "/* On hover */\n",
       "div.sk-estimator:hover .sk-estimator-doc-link:hover,\n",
       ".sk-estimator-doc-link:hover,\n",
       "div.sk-label-container:hover .sk-estimator-doc-link:hover,\n",
       ".sk-estimator-doc-link:hover {\n",
       "  /* unfitted */\n",
       "  background-color: var(--sklearn-color-unfitted-level-3);\n",
       "  color: var(--sklearn-color-background);\n",
       "  text-decoration: none;\n",
       "}\n",
       "\n",
       "div.sk-estimator.fitted:hover .sk-estimator-doc-link.fitted:hover,\n",
       ".sk-estimator-doc-link.fitted:hover,\n",
       "div.sk-label-container:hover .sk-estimator-doc-link.fitted:hover,\n",
       ".sk-estimator-doc-link.fitted:hover {\n",
       "  /* fitted */\n",
       "  background-color: var(--sklearn-color-fitted-level-3);\n",
       "  color: var(--sklearn-color-background);\n",
       "  text-decoration: none;\n",
       "}\n",
       "\n",
       "/* Span, style for the box shown on hovering the info icon */\n",
       ".sk-estimator-doc-link span {\n",
       "  display: none;\n",
       "  z-index: 9999;\n",
       "  position: relative;\n",
       "  font-weight: normal;\n",
       "  right: .2ex;\n",
       "  padding: .5ex;\n",
       "  margin: .5ex;\n",
       "  width: min-content;\n",
       "  min-width: 20ex;\n",
       "  max-width: 50ex;\n",
       "  color: var(--sklearn-color-text);\n",
       "  box-shadow: 2pt 2pt 4pt #999;\n",
       "  /* unfitted */\n",
       "  background: var(--sklearn-color-unfitted-level-0);\n",
       "  border: .5pt solid var(--sklearn-color-unfitted-level-3);\n",
       "}\n",
       "\n",
       ".sk-estimator-doc-link.fitted span {\n",
       "  /* fitted */\n",
       "  background: var(--sklearn-color-fitted-level-0);\n",
       "  border: var(--sklearn-color-fitted-level-3);\n",
       "}\n",
       "\n",
       ".sk-estimator-doc-link:hover span {\n",
       "  display: block;\n",
       "}\n",
       "\n",
       "/* \"?\"-specific style due to the `<a>` HTML tag */\n",
       "\n",
       "#sk-container-id-1 a.estimator_doc_link {\n",
       "  float: right;\n",
       "  font-size: 1rem;\n",
       "  line-height: 1em;\n",
       "  font-family: monospace;\n",
       "  background-color: var(--sklearn-color-background);\n",
       "  border-radius: 1rem;\n",
       "  height: 1rem;\n",
       "  width: 1rem;\n",
       "  text-decoration: none;\n",
       "  /* unfitted */\n",
       "  color: var(--sklearn-color-unfitted-level-1);\n",
       "  border: var(--sklearn-color-unfitted-level-1) 1pt solid;\n",
       "}\n",
       "\n",
       "#sk-container-id-1 a.estimator_doc_link.fitted {\n",
       "  /* fitted */\n",
       "  border: var(--sklearn-color-fitted-level-1) 1pt solid;\n",
       "  color: var(--sklearn-color-fitted-level-1);\n",
       "}\n",
       "\n",
       "/* On hover */\n",
       "#sk-container-id-1 a.estimator_doc_link:hover {\n",
       "  /* unfitted */\n",
       "  background-color: var(--sklearn-color-unfitted-level-3);\n",
       "  color: var(--sklearn-color-background);\n",
       "  text-decoration: none;\n",
       "}\n",
       "\n",
       "#sk-container-id-1 a.estimator_doc_link.fitted:hover {\n",
       "  /* fitted */\n",
       "  background-color: var(--sklearn-color-fitted-level-3);\n",
       "}\n",
       "\n",
       ".estimator-table summary {\n",
       "    padding: .5rem;\n",
       "    font-family: monospace;\n",
       "    cursor: pointer;\n",
       "}\n",
       "\n",
       ".estimator-table details[open] {\n",
       "    padding-left: 0.1rem;\n",
       "    padding-right: 0.1rem;\n",
       "    padding-bottom: 0.3rem;\n",
       "}\n",
       "\n",
       ".estimator-table .parameters-table {\n",
       "    margin-left: auto !important;\n",
       "    margin-right: auto !important;\n",
       "}\n",
       "\n",
       ".estimator-table .parameters-table tr:nth-child(odd) {\n",
       "    background-color: #fff;\n",
       "}\n",
       "\n",
       ".estimator-table .parameters-table tr:nth-child(even) {\n",
       "    background-color: #f6f6f6;\n",
       "}\n",
       "\n",
       ".estimator-table .parameters-table tr:hover {\n",
       "    background-color: #e0e0e0;\n",
       "}\n",
       "\n",
       ".estimator-table table td {\n",
       "    border: 1px solid rgba(106, 105, 104, 0.232);\n",
       "}\n",
       "\n",
       ".user-set td {\n",
       "    color:rgb(255, 94, 0);\n",
       "    text-align: left;\n",
       "}\n",
       "\n",
       ".user-set td.value pre {\n",
       "    color:rgb(255, 94, 0) !important;\n",
       "    background-color: transparent !important;\n",
       "}\n",
       "\n",
       ".default td {\n",
       "    color: black;\n",
       "    text-align: left;\n",
       "}\n",
       "\n",
       ".user-set td i,\n",
       ".default td i {\n",
       "    color: black;\n",
       "}\n",
       "\n",
       ".copy-paste-icon {\n",
       "    background-image: url(data:image/svg+xml;base64,PHN2ZyB4bWxucz0iaHR0cDovL3d3dy53My5vcmcvMjAwMC9zdmciIHZpZXdCb3g9IjAgMCA0NDggNTEyIj48IS0tIUZvbnQgQXdlc29tZSBGcmVlIDYuNy4yIGJ5IEBmb250YXdlc29tZSAtIGh0dHBzOi8vZm9udGF3ZXNvbWUuY29tIExpY2Vuc2UgLSBodHRwczovL2ZvbnRhd2Vzb21lLmNvbS9saWNlbnNlL2ZyZWUgQ29weXJpZ2h0IDIwMjUgRm9udGljb25zLCBJbmMuLS0+PHBhdGggZD0iTTIwOCAwTDMzMi4xIDBjMTIuNyAwIDI0LjkgNS4xIDMzLjkgMTQuMWw2Ny45IDY3LjljOSA5IDE0LjEgMjEuMiAxNC4xIDMzLjlMNDQ4IDMzNmMwIDI2LjUtMjEuNSA0OC00OCA0OGwtMTkyIDBjLTI2LjUgMC00OC0yMS41LTQ4LTQ4bDAtMjg4YzAtMjYuNSAyMS41LTQ4IDQ4LTQ4ek00OCAxMjhsODAgMCAwIDY0LTY0IDAgMCAyNTYgMTkyIDAgMC0zMiA2NCAwIDAgNDhjMCAyNi41LTIxLjUgNDgtNDggNDhMNDggNTEyYy0yNi41IDAtNDgtMjEuNS00OC00OEwwIDE3NmMwLTI2LjUgMjEuNS00OCA0OC00OHoiLz48L3N2Zz4=);\n",
       "    background-repeat: no-repeat;\n",
       "    background-size: 14px 14px;\n",
       "    background-position: 0;\n",
       "    display: inline-block;\n",
       "    width: 14px;\n",
       "    height: 14px;\n",
       "    cursor: pointer;\n",
       "}\n",
       "</style><body><div id=\"sk-container-id-1\" class=\"sk-top-container\"><div class=\"sk-text-repr-fallback\"><pre>KMeans(n_clusters=3, n_init=10, random_state=42)</pre><b>In a Jupyter environment, please rerun this cell to show the HTML representation or trust the notebook. <br />On GitHub, the HTML representation is unable to render, please try loading this page with nbviewer.org.</b></div><div class=\"sk-container\" hidden><div class=\"sk-item\"><div class=\"sk-estimator fitted sk-toggleable\"><input class=\"sk-toggleable__control sk-hidden--visually\" id=\"sk-estimator-id-1\" type=\"checkbox\" checked><label for=\"sk-estimator-id-1\" class=\"sk-toggleable__label fitted sk-toggleable__label-arrow\"><div><div>KMeans</div></div><div><a class=\"sk-estimator-doc-link fitted\" rel=\"noreferrer\" target=\"_blank\" href=\"https://scikit-learn.org/1.7/modules/generated/sklearn.cluster.KMeans.html\">?<span>Documentation for KMeans</span></a><span class=\"sk-estimator-doc-link fitted\">i<span>Fitted</span></span></div></label><div class=\"sk-toggleable__content fitted\" data-param-prefix=\"\">\n",
       "        <div class=\"estimator-table\">\n",
       "            <details>\n",
       "                <summary>Parameters</summary>\n",
       "                <table class=\"parameters-table\">\n",
       "                  <tbody>\n",
       "                    \n",
       "        <tr class=\"user-set\">\n",
       "            <td><i class=\"copy-paste-icon\"\n",
       "                 onclick=\"copyToClipboard('n_clusters',\n",
       "                          this.parentElement.nextElementSibling)\"\n",
       "            ></i></td>\n",
       "            <td class=\"param\">n_clusters&nbsp;</td>\n",
       "            <td class=\"value\">3</td>\n",
       "        </tr>\n",
       "    \n",
       "\n",
       "        <tr class=\"default\">\n",
       "            <td><i class=\"copy-paste-icon\"\n",
       "                 onclick=\"copyToClipboard('init',\n",
       "                          this.parentElement.nextElementSibling)\"\n",
       "            ></i></td>\n",
       "            <td class=\"param\">init&nbsp;</td>\n",
       "            <td class=\"value\">&#x27;k-means++&#x27;</td>\n",
       "        </tr>\n",
       "    \n",
       "\n",
       "        <tr class=\"user-set\">\n",
       "            <td><i class=\"copy-paste-icon\"\n",
       "                 onclick=\"copyToClipboard('n_init',\n",
       "                          this.parentElement.nextElementSibling)\"\n",
       "            ></i></td>\n",
       "            <td class=\"param\">n_init&nbsp;</td>\n",
       "            <td class=\"value\">10</td>\n",
       "        </tr>\n",
       "    \n",
       "\n",
       "        <tr class=\"default\">\n",
       "            <td><i class=\"copy-paste-icon\"\n",
       "                 onclick=\"copyToClipboard('max_iter',\n",
       "                          this.parentElement.nextElementSibling)\"\n",
       "            ></i></td>\n",
       "            <td class=\"param\">max_iter&nbsp;</td>\n",
       "            <td class=\"value\">300</td>\n",
       "        </tr>\n",
       "    \n",
       "\n",
       "        <tr class=\"default\">\n",
       "            <td><i class=\"copy-paste-icon\"\n",
       "                 onclick=\"copyToClipboard('tol',\n",
       "                          this.parentElement.nextElementSibling)\"\n",
       "            ></i></td>\n",
       "            <td class=\"param\">tol&nbsp;</td>\n",
       "            <td class=\"value\">0.0001</td>\n",
       "        </tr>\n",
       "    \n",
       "\n",
       "        <tr class=\"default\">\n",
       "            <td><i class=\"copy-paste-icon\"\n",
       "                 onclick=\"copyToClipboard('verbose',\n",
       "                          this.parentElement.nextElementSibling)\"\n",
       "            ></i></td>\n",
       "            <td class=\"param\">verbose&nbsp;</td>\n",
       "            <td class=\"value\">0</td>\n",
       "        </tr>\n",
       "    \n",
       "\n",
       "        <tr class=\"user-set\">\n",
       "            <td><i class=\"copy-paste-icon\"\n",
       "                 onclick=\"copyToClipboard('random_state',\n",
       "                          this.parentElement.nextElementSibling)\"\n",
       "            ></i></td>\n",
       "            <td class=\"param\">random_state&nbsp;</td>\n",
       "            <td class=\"value\">42</td>\n",
       "        </tr>\n",
       "    \n",
       "\n",
       "        <tr class=\"default\">\n",
       "            <td><i class=\"copy-paste-icon\"\n",
       "                 onclick=\"copyToClipboard('copy_x',\n",
       "                          this.parentElement.nextElementSibling)\"\n",
       "            ></i></td>\n",
       "            <td class=\"param\">copy_x&nbsp;</td>\n",
       "            <td class=\"value\">True</td>\n",
       "        </tr>\n",
       "    \n",
       "\n",
       "        <tr class=\"default\">\n",
       "            <td><i class=\"copy-paste-icon\"\n",
       "                 onclick=\"copyToClipboard('algorithm',\n",
       "                          this.parentElement.nextElementSibling)\"\n",
       "            ></i></td>\n",
       "            <td class=\"param\">algorithm&nbsp;</td>\n",
       "            <td class=\"value\">&#x27;lloyd&#x27;</td>\n",
       "        </tr>\n",
       "    \n",
       "                  </tbody>\n",
       "                </table>\n",
       "            </details>\n",
       "        </div>\n",
       "    </div></div></div></div></div><script>function copyToClipboard(text, element) {\n",
       "    // Get the parameter prefix from the closest toggleable content\n",
       "    const toggleableContent = element.closest('.sk-toggleable__content');\n",
       "    const paramPrefix = toggleableContent ? toggleableContent.dataset.paramPrefix : '';\n",
       "    const fullParamName = paramPrefix ? `${paramPrefix}${text}` : text;\n",
       "\n",
       "    const originalStyle = element.style;\n",
       "    const computedStyle = window.getComputedStyle(element);\n",
       "    const originalWidth = computedStyle.width;\n",
       "    const originalHTML = element.innerHTML.replace('Copied!', '');\n",
       "\n",
       "    navigator.clipboard.writeText(fullParamName)\n",
       "        .then(() => {\n",
       "            element.style.width = originalWidth;\n",
       "            element.style.color = 'green';\n",
       "            element.innerHTML = \"Copied!\";\n",
       "\n",
       "            setTimeout(() => {\n",
       "                element.innerHTML = originalHTML;\n",
       "                element.style = originalStyle;\n",
       "            }, 2000);\n",
       "        })\n",
       "        .catch(err => {\n",
       "            console.error('Failed to copy:', err);\n",
       "            element.style.color = 'red';\n",
       "            element.innerHTML = \"Failed!\";\n",
       "            setTimeout(() => {\n",
       "                element.innerHTML = originalHTML;\n",
       "                element.style = originalStyle;\n",
       "            }, 2000);\n",
       "        });\n",
       "    return false;\n",
       "}\n",
       "\n",
       "document.querySelectorAll('.fa-regular.fa-copy').forEach(function(element) {\n",
       "    const toggleableContent = element.closest('.sk-toggleable__content');\n",
       "    const paramPrefix = toggleableContent ? toggleableContent.dataset.paramPrefix : '';\n",
       "    const paramName = element.parentElement.nextElementSibling.textContent.trim();\n",
       "    const fullParamName = paramPrefix ? `${paramPrefix}${paramName}` : paramName;\n",
       "\n",
       "    element.setAttribute('title', fullParamName);\n",
       "});\n",
       "</script></body>"
      ],
      "text/plain": [
       "KMeans(n_clusters=3, n_init=10, random_state=42)"
      ]
     },
     "execution_count": 29,
     "metadata": {},
     "output_type": "execute_result"
    }
   ],
   "source": [
    "## Apply K-Means with the chosen number of clusters\n",
    "optimal_k = 3\n",
    "kmeans = KMeans(n_clusters=optimal_k, random_state=42, n_init=10)\n",
    "kmeans.fit(scaled_data)"
   ]
  },
  {
   "cell_type": "code",
   "execution_count": 30,
   "id": "d47b7034",
   "metadata": {},
   "outputs": [
    {
     "name": "stdout",
     "output_type": "stream",
     "text": [
      "\n",
      "--- Cluster Analysis Results ---\n",
      "               Household estimate (kg/capita/year)  \\\n",
      "Waste_Cluster                                        \n",
      "0                                        73.307692   \n",
      "1                                        91.000000   \n",
      "2                                       101.421687   \n",
      "\n",
      "               Retail estimate (kg/capita/year)  \\\n",
      "Waste_Cluster                                     \n",
      "0                                     13.969231   \n",
      "1                                     79.000000   \n",
      "2                                     16.144578   \n",
      "\n",
      "               Food service estimate (kg/capita/year)  \n",
      "Waste_Cluster                                          \n",
      "0                                           26.807692  \n",
      "1                                           90.000000  \n",
      "2                                           27.530120  \n"
     ]
    },
    {
     "data": {
      "image/png": "[encoded data removed]",
      "text/plain": [
       "<Figure size 851.861x750 with 12 Axes>"
      ]
     },
     "metadata": {},
     "output_type": "display_data"
    }
   ],
   "source": [
    "## Assign cluster labels to the DataFrame\n",
    "df['Waste_Cluster'] = kmeans.labels_\n",
    "\n",
    "## Cluster summaries\n",
    "print(\"\\n--- Cluster Analysis Results ---\")\n",
    "cluster_summary = df.groupby('Waste_Cluster')[features].mean()\n",
    "print(cluster_summary)\n",
    "\n",
    "## Visualize clusters with pairplot\n",
    "sns.pairplot(df, hue='Waste_Cluster', vars=features, palette='tab10')\n",
    "plt.suptitle(\"Cluster Pair Plot\", y=1.02)\n",
    "plt.show()"
   ]
  },
  {
   "cell_type": "code",
   "execution_count": 34,
   "id": "f5ca03dd",
   "metadata": {},
   "outputs": [
    {
     "name": "stdout",
     "output_type": "stream",
     "text": [
      "\n",
      "--- Cluster Analysis Results ---\n",
      "               Household estimate (kg/capita/year)  \\\n",
      "Waste_Cluster                                        \n",
      "0                                        73.307692   \n",
      "1                                        91.000000   \n",
      "2                                       101.421687   \n",
      "\n",
      "               Retail estimate (kg/capita/year)  \\\n",
      "Waste_Cluster                                     \n",
      "0                                     13.969231   \n",
      "1                                     79.000000   \n",
      "2                                     16.144578   \n",
      "\n",
      "               Food service estimate (kg/capita/year)  \n",
      "Waste_Cluster                                          \n",
      "0                                           26.807692  \n",
      "1                                           90.000000  \n",
      "2                                           27.530120  \n"
     ]
    },
    {
     "data": {
      "image/png": "[encoded data removed]",
      "text/plain": [
       "<Figure size 1200x700 with 1 Axes>"
      ]
     },
     "metadata": {},
     "output_type": "display_data"
    },
    {
     "name": "stdout",
     "output_type": "stream",
     "text": [
      "\n",
      "--- Project Complete ---\n"
     ]
    }
   ],
   "source": [
    "print(\"\\n--- Cluster Analysis Results ---\")\n",
    "# Analyze the characteristics of each cluster by calculating the mean for each feature\n",
    "cluster_summary = df.groupby('Waste_Cluster')[features].mean()\n",
    "print(cluster_summary)\n",
    "\n",
    "# Visualize the clusters\n",
    "plt.figure(figsize=(12, 7))\n",
    "sns.scatterplot(data=df, x='Household estimate (kg/capita/year)', y='Retail estimate (kg/capita/year)', hue='Waste_Cluster', palette='tab10')\n",
    "plt.title('Country Clusters based on Waste Profiles')\n",
    "plt.legend(title='Cluster')\n",
    "plt.tight_layout()\n",
    "plt.show()\n",
    "\n",
    "print(\"\\n--- Project Complete ---\")"
   ]
  },
  {
   "cell_type": "code",
   "execution_count": 31,
   "id": "8e18629c",
   "metadata": {},
   "outputs": [
    {
     "name": "stdout",
     "output_type": "stream",
     "text": [
      "\n",
      "--- Outlier Country in Cluster 1 ---\n",
      "      Country  combined figures (kg/capita/year)  \\\n",
      "116  Malaysia                                260   \n",
      "\n",
      "     Household estimate (kg/capita/year)  Household estimate (tonnes/year)  \\\n",
      "116                                   91                           2921577   \n",
      "\n",
      "     Retail estimate (kg/capita/year)  Retail estimate (tonnes/year)  \\\n",
      "116                                79                        2518199   \n",
      "\n",
      "     Food service estimate (kg/capita/year)  \\\n",
      "116                                      90   \n",
      "\n",
      "     Food service estimate (tonnes/year) Confidence in estimate  M49 code  \\\n",
      "116                              2861537      Medium Confidence       458   \n",
      "\n",
      "                 Region                                             Source  \\\n",
      "116  South-eastern Asia  https://www.unep.org/resources/report/unep-foo...   \n",
      "\n",
      "     Waste_Cluster  \n",
      "116              1  \n"
     ]
    }
   ],
   "source": [
    "# Find the country or countries in Cluster 1 (the orange dot)\n",
    "outlier_country = df[df['Waste_Cluster'] == 1]\n",
    "\n",
    "print(\"\\n--- Outlier Country in Cluster 1 ---\")\n",
    "print(outlier_country)"
   ]
  },
  {
   "cell_type": "code",
   "execution_count": 32,
   "id": "13bbb3a2",
   "metadata": {},
   "outputs": [
    {
     "name": "stdout",
     "output_type": "stream",
     "text": [
      "\n",
      "--- Countries in Cluster 0 ---\n",
      "                          Country  combined figures (kg/capita/year)  \\\n",
      "0                     Afghanistan                                126   \n",
      "1                         Albania                                127   \n",
      "3                         Andorra                                123   \n",
      "5             Antigua and Barbuda                                113   \n",
      "6                       Argentina                                116   \n",
      "..                            ...                                ...   \n",
      "205  United States Virgin Islands                                113   \n",
      "206                       Uruguay                                113   \n",
      "209    Venezuela (Boliv. Rep. of)                                116   \n",
      "210                      Viet Nam                                120   \n",
      "212                        Zambia                                122   \n",
      "\n",
      "     Household estimate (kg/capita/year)  Household estimate (tonnes/year)  \\\n",
      "0                                     82                           3109153   \n",
      "1                                     83                            238492   \n",
      "3                                     84                              6497   \n",
      "5                                     74                              7178   \n",
      "6                                     72                           3243563   \n",
      "..                                   ...                               ...   \n",
      "205                                   74                              7732   \n",
      "206                                   74                            255892   \n",
      "209                                   72                           2065461   \n",
      "210                                   76                           7346717   \n",
      "212                                   78                           1391729   \n",
      "\n",
      "     Retail estimate (kg/capita/year)  Retail estimate (tonnes/year)  \\\n",
      "0                                  16                         594982   \n",
      "1                                  16                          45058   \n",
      "3                                  13                            988   \n",
      "5                                  13                           1244   \n",
      "6                                  16                         700380   \n",
      "..                                ...                            ...   \n",
      "205                                13                           1340   \n",
      "206                                13                          44349   \n",
      "209                                16                         445994   \n",
      "210                                16                        1508689   \n",
      "212                                16                         279350   \n",
      "\n",
      "     Food service estimate (kg/capita/year)  \\\n",
      "0                                        28   \n",
      "1                                        28   \n",
      "3                                        26   \n",
      "5                                        26   \n",
      "6                                        28   \n",
      "..                                      ...   \n",
      "205                                      26   \n",
      "206                                      26   \n",
      "209                                      28   \n",
      "210                                      28   \n",
      "212                                      28   \n",
      "\n",
      "     Food service estimate (tonnes/year) Confidence in estimate  M49 code  \\\n",
      "0                                1051783    Very Low Confidence         4   \n",
      "1                                  79651    Very Low Confidence         8   \n",
      "3                                   1971         Low Confidence        20   \n",
      "5                                   2483         Low Confidence        28   \n",
      "6                                1238100    Very Low Confidence        32   \n",
      "..                                   ...                    ...       ...   \n",
      "205                                 2675         Low Confidence       850   \n",
      "206                                88517         Low Confidence       858   \n",
      "209                               788407    Very Low Confidence       862   \n",
      "210                              2666991    Very Low Confidence       704   \n",
      "212                               493822    Very Low Confidence       894   \n",
      "\n",
      "                              Region  \\\n",
      "0                      Southern Asia   \n",
      "1                    Southern Europe   \n",
      "3                    Southern Europe   \n",
      "5    Latin America and the Caribbean   \n",
      "6    Latin America and the Caribbean   \n",
      "..                               ...   \n",
      "205  Latin America and the Caribbean   \n",
      "206  Latin America and the Caribbean   \n",
      "209  Latin America and the Caribbean   \n",
      "210               South-eastern Asia   \n",
      "212               Sub-Saharan Africa   \n",
      "\n",
      "                                                Source  Waste_Cluster  \n",
      "0    https://www.unep.org/resources/report/unep-foo...              0  \n",
      "1    https://www.unep.org/resources/report/unep-foo...              0  \n",
      "3    https://www.unep.org/resources/report/unep-foo...              0  \n",
      "5    https://www.unep.org/resources/report/unep-foo...              0  \n",
      "6    https://www.unep.org/resources/report/unep-foo...              0  \n",
      "..                                                 ...            ...  \n",
      "205  https://www.unep.org/resources/report/unep-foo...              0  \n",
      "206  https://www.unep.org/resources/report/unep-foo...              0  \n",
      "209  https://www.unep.org/resources/report/unep-foo...              0  \n",
      "210  https://www.unep.org/resources/report/unep-foo...              0  \n",
      "212  https://www.unep.org/resources/report/unep-foo...              0  \n",
      "\n",
      "[130 rows x 13 columns]\n"
     ]
    }
   ],
   "source": [
    "# Find the country or countries in Cluster 0 (the blue dot)\n",
    "countries_in_cluster_0 = df[df['Waste_Cluster'] == 0]\n",
    "\n",
    "print(\"\\n--- Countries in Cluster 0 ---\")\n",
    "print(countries_in_cluster_0)"
   ]
  },
  {
   "cell_type": "code",
   "execution_count": 33,
   "id": "f94ff840",
   "metadata": {},
   "outputs": [
    {
     "name": "stdout",
     "output_type": "stream",
     "text": [
      "\n",
      "--- Countries in Cluster 2 ---\n",
      "                     Country  combined figures (kg/capita/year)  \\\n",
      "2                    Algeria                                135   \n",
      "4                     Angola                                144   \n",
      "7                    Armenia                                137   \n",
      "9                  Australia                                133   \n",
      "11                Azerbaijan                                137   \n",
      "..                       ...                                ...   \n",
      "203  United Rep. of Tanzania                                163   \n",
      "207               Uzbekistan                                135   \n",
      "208                  Vanuatu                                135   \n",
      "211                    Yemen                                148   \n",
      "213                 Zimbabwe                                144   \n",
      "\n",
      "     Household estimate (kg/capita/year)  Household estimate (tonnes/year)  \\\n",
      "2                                     91                           3918529   \n",
      "4                                    100                           3169523   \n",
      "7                                     93                            275195   \n",
      "9                                    102                           2563110   \n",
      "11                                    93                            934872   \n",
      "..                                   ...                               ...   \n",
      "203                                  119                           6907649   \n",
      "207                                   91                           3001868   \n",
      "208                                   91                             27296   \n",
      "211                                  104                           3026946   \n",
      "213                                  100                           1458564   \n",
      "\n",
      "     Retail estimate (kg/capita/year)  Retail estimate (tonnes/year)  \\\n",
      "2                                  16                         673360   \n",
      "4                                  16                         497755   \n",
      "7                                  16                          46259   \n",
      "9                                   9                         238248   \n",
      "11                                 16                         157148   \n",
      "..                                ...                            ...   \n",
      "203                                16                         907219   \n",
      "207                                16                         515841   \n",
      "208                                16                           4691   \n",
      "211                                16                         456099   \n",
      "213                                16                         229059   \n",
      "\n",
      "     Food service estimate (kg/capita/year)  \\\n",
      "2                                        28   \n",
      "4                                        28   \n",
      "7                                        28   \n",
      "9                                        22   \n",
      "11                                       28   \n",
      "..                                      ...   \n",
      "203                                      28   \n",
      "207                                      28   \n",
      "208                                      28   \n",
      "211                                      28   \n",
      "213                                      28   \n",
      "\n",
      "     Food service estimate (tonnes/year) Confidence in estimate  M49 code  \\\n",
      "2                                1190335    Very Low Confidence        12   \n",
      "4                                 879908    Very Low Confidence        24   \n",
      "7                                  81775    Very Low Confidence        51   \n",
      "9                                 546340        High Confidence        36   \n",
      "11                                277800    Very Low Confidence        31   \n",
      "..                                   ...                    ...       ...   \n",
      "203                              1603740    Very Low Confidence       834   \n",
      "207                               911881    Very Low Confidence       860   \n",
      "208                                 8292    Very Low Confidence       548   \n",
      "211                               806270    Very Low Confidence       887   \n",
      "213                               404920    Very Low Confidence       716   \n",
      "\n",
      "                        Region  \\\n",
      "2              Northern Africa   \n",
      "4           Sub-Saharan Africa   \n",
      "7                 Western Asia   \n",
      "9    Australia and New Zealand   \n",
      "11                Western Asia   \n",
      "..                         ...   \n",
      "203         Sub-Saharan Africa   \n",
      "207               Central Asia   \n",
      "208                  Melanesia   \n",
      "211               Western Asia   \n",
      "213         Sub-Saharan Africa   \n",
      "\n",
      "                                                Source  Waste_Cluster  \n",
      "2    https://www.unep.org/resources/report/unep-foo...              2  \n",
      "4    https://www.unep.org/resources/report/unep-foo...              2  \n",
      "7    https://www.unep.org/resources/report/unep-foo...              2  \n",
      "9    https://www.unep.org/resources/report/unep-foo...              2  \n",
      "11   https://www.unep.org/resources/report/unep-foo...              2  \n",
      "..                                                 ...            ...  \n",
      "203  https://www.unep.org/resources/report/unep-foo...              2  \n",
      "207  https://www.unep.org/resources/report/unep-foo...              2  \n",
      "208  https://www.unep.org/resources/report/unep-foo...              2  \n",
      "211  https://www.unep.org/resources/report/unep-foo...              2  \n",
      "213  https://www.unep.org/resources/report/unep-foo...              2  \n",
      "\n",
      "[83 rows x 13 columns]\n"
     ]
    }
   ],
   "source": [
    "# Find the country or countries in Cluster 2 (the green dot)\n",
    "countries_in_cluster_2 = df[df['Waste_Cluster'] == 2]\n",
    "\n",
    "print(\"\\n--- Countries in Cluster 2 ---\")\n",
    "print(countries_in_cluster_2)"
   ]
  }
 ],
 "metadata": {
  "kernelspec": {
   "display_name": "Python 3",
   "language": "python",
   "name": "python3"
  },
  "language_info": {
   "codemirror_mode": {
    "name": "ipython",
    "version": 3
   },
   "file_extension": ".py",
   "mimetype": "text/x-python",
   "name": "python",
   "nbconvert_exporter": "python",
   "pygments_lexer": "ipython3",
   "version": "3.11.9"
  }
 },
 "nbformat": 4,
 "nbformat_minor": 5
}
